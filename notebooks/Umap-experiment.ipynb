{
 "cells": [
  {
   "cell_type": "code",
   "execution_count": 2,
   "id": "b091ff1e-5345-4e96-a7dd-fc6a76ddce5d",
   "metadata": {
    "execution": {
     "iopub.execute_input": "2023-01-27T15:13:24.551459Z",
     "iopub.status.busy": "2023-01-27T15:13:24.551064Z",
     "iopub.status.idle": "2023-01-27T15:14:37.149363Z",
     "shell.execute_reply": "2023-01-27T15:14:37.148598Z",
     "shell.execute_reply.started": "2023-01-27T15:13:24.551430Z"
    },
    "tags": []
   },
   "outputs": [
    {
     "name": "stdout",
     "output_type": "stream",
     "text": [
      "\u001b[33mWARNING: The candidate selected for download or install is a yanked version: 'sklearn' candidate (version 0.0.post2 at https://files.pythonhosted.org/packages/c7/42/6496b55f00df3202030e56f43737bc8b3b8dbc79dc6db7e5944e1583a31e/sklearn-0.0.post2.tar.gz (from https://pypi.org/simple/sklearn/))\n",
      "Reason for being yanked: Breaks poetry install that needs wheel building and does not have a fall-back to legacy install\u001b[0m\u001b[33m\n",
      "\u001b[0m  \u001b[1;31merror\u001b[0m: \u001b[1msubprocess-exited-with-error\u001b[0m\n",
      "  \n",
      "  \u001b[31m×\u001b[0m \u001b[32mpython setup.py bdist_wheel\u001b[0m did not run successfully.\n",
      "  \u001b[31m│\u001b[0m exit code: \u001b[1;36m1\u001b[0m\n",
      "  \u001b[31m╰─>\u001b[0m \u001b[31m[19 lines of output]\u001b[0m\n",
      "  \u001b[31m   \u001b[0m running bdist_wheel\n",
      "  \u001b[31m   \u001b[0m Traceback (most recent call last):\n",
      "  \u001b[31m   \u001b[0m   File \"<string>\", line 2, in <module>\n",
      "  \u001b[31m   \u001b[0m   File \"<pip-setuptools-caller>\", line 34, in <module>\n",
      "  \u001b[31m   \u001b[0m   File \"/tmp/pip-install-rz4tjdcu/sklearn_2a9f5ccf95f74709a5d38d08feadcea9/setup.py\", line 121, in <module>\n",
      "  \u001b[31m   \u001b[0m     setuptools.setup(\n",
      "  \u001b[31m   \u001b[0m   File \"/opt/saturncloud/envs/saturn/lib/python3.9/site-packages/setuptools/__init__.py\", line 155, in setup\n",
      "  \u001b[31m   \u001b[0m     return distutils.core.setup(**attrs)\n",
      "  \u001b[31m   \u001b[0m   File \"/opt/saturncloud/envs/saturn/lib/python3.9/site-packages/setuptools/_distutils/core.py\", line 148, in setup\n",
      "  \u001b[31m   \u001b[0m     return run_commands(dist)\n",
      "  \u001b[31m   \u001b[0m   File \"/opt/saturncloud/envs/saturn/lib/python3.9/site-packages/setuptools/_distutils/core.py\", line 163, in run_commands\n",
      "  \u001b[31m   \u001b[0m     dist.run_commands()\n",
      "  \u001b[31m   \u001b[0m   File \"/opt/saturncloud/envs/saturn/lib/python3.9/site-packages/setuptools/_distutils/dist.py\", line 967, in run_commands\n",
      "  \u001b[31m   \u001b[0m     self.run_command(cmd)\n",
      "  \u001b[31m   \u001b[0m   File \"/opt/saturncloud/envs/saturn/lib/python3.9/site-packages/setuptools/_distutils/dist.py\", line 986, in run_command\n",
      "  \u001b[31m   \u001b[0m     cmd_obj.run()\n",
      "  \u001b[31m   \u001b[0m   File \"/tmp/pip-install-rz4tjdcu/sklearn_2a9f5ccf95f74709a5d38d08feadcea9/setup.py\", line 20, in run\n",
      "  \u001b[31m   \u001b[0m     raise setuptools.errors.ClassError(message)\n",
      "  \u001b[31m   \u001b[0m AttributeError: module 'setuptools' has no attribute 'errors'\n",
      "  \u001b[31m   \u001b[0m \u001b[31m[end of output]\u001b[0m\n",
      "  \n",
      "  \u001b[1;35mnote\u001b[0m: This error originates from a subprocess, and is likely not a problem with pip.\n",
      "\u001b[31m  ERROR: Failed building wheel for sklearn\u001b[0m\u001b[31m\n",
      "\u001b[0m\u001b[33m  DEPRECATION: sklearn was installed using the legacy 'setup.py install' method, because a wheel could not be built for it. pip 23.1 will enforce this behaviour change. A possible replacement is to fix the wheel build issue reported above. Discussion can be found at https://github.com/pypa/pip/issues/8368\u001b[0m\u001b[33m\n",
      "\u001b[0m"
     ]
    }
   ],
   "source": [
    "!pip install -r requirements.txt --quiet"
   ]
  },
  {
   "cell_type": "code",
   "execution_count": 3,
   "id": "5ae53977-31dd-4a84-b037-1f03ce616c83",
   "metadata": {
    "execution": {
     "iopub.execute_input": "2023-01-27T15:14:37.151161Z",
     "iopub.status.busy": "2023-01-27T15:14:37.150771Z",
     "iopub.status.idle": "2023-01-27T15:14:47.899633Z",
     "shell.execute_reply": "2023-01-27T15:14:47.898748Z",
     "shell.execute_reply.started": "2023-01-27T15:14:37.151131Z"
    },
    "tags": []
   },
   "outputs": [
    {
     "name": "stdout",
     "output_type": "stream",
     "text": [
      "scanpy==1.9.1 anndata==0.8.0 umap==0.5.3 numpy==1.23.5 scipy==1.10.0 pandas==1.4.4 scikit-learn==1.2.0 statsmodels==0.13.5 pynndescent==0.5.8\n"
     ]
    }
   ],
   "source": [
    "import cudf\n",
    "import cuml\n",
    "import numpy as np\n",
    "import scanpy as sc\n",
    "import muon as mu\n",
    "import pandas as pd\n",
    "import gc\n",
    "from numba import cuda\n",
    "import matplotlib.pyplot as plt\n",
    "\n",
    "from warnings import filterwarnings\n",
    "filterwarnings('ignore')\n",
    "\n",
    "sc.settings.verbosity = 3\n",
    "sc.logging.print_header()\n",
    "sc.settings.set_figure_params(dpi=80, facecolor='white')"
   ]
  },
  {
   "cell_type": "code",
   "execution_count": 5,
   "id": "76c86672-a769-4221-9f69-9d3573a96296",
   "metadata": {
    "execution": {
     "iopub.execute_input": "2023-01-27T15:14:50.953996Z",
     "iopub.status.busy": "2023-01-27T15:14:50.953576Z",
     "iopub.status.idle": "2023-01-27T15:14:59.671037Z",
     "shell.execute_reply": "2023-01-27T15:14:59.670305Z",
     "shell.execute_reply.started": "2023-01-27T15:14:50.953968Z"
    },
    "tags": []
   },
   "outputs": [
    {
     "data": {
      "text/plain": [
       "AnnData object with n_obs × n_vars = 28697 × 15077\n",
       "    obs: 'gRNA_maxID', 'state', 'condition', 'lane'\n",
       "    layers: 'rawcounts'"
      ]
     },
     "execution_count": 5,
     "metadata": {},
     "output_type": "execute_result"
    }
   ],
   "source": [
    "adata = sc.read_h5ad('./sc_training.h5ad')\n",
    "adata"
   ]
  },
  {
   "cell_type": "code",
   "execution_count": 6,
   "id": "73ba5e0f-9ce4-4586-aa7d-73ebddee6cbe",
   "metadata": {
    "execution": {
     "iopub.execute_input": "2023-01-27T15:14:59.673001Z",
     "iopub.status.busy": "2023-01-27T15:14:59.672561Z",
     "iopub.status.idle": "2023-01-27T15:15:00.174948Z",
     "shell.execute_reply": "2023-01-27T15:15:00.174265Z",
     "shell.execute_reply.started": "2023-01-27T15:14:59.672967Z"
    },
    "tags": []
   },
   "outputs": [],
   "source": [
    "# make a copy of normalized logcounts\n",
    "adata.layers['normalized_logcounts'] = adata.X.copy()"
   ]
  },
  {
   "cell_type": "code",
   "execution_count": 4,
   "id": "7ed87a7d-2f73-48f2-95a4-e142691fd63b",
   "metadata": {
    "execution": {
     "iopub.execute_input": "2023-01-26T23:12:00.509064Z",
     "iopub.status.busy": "2023-01-26T23:12:00.508655Z",
     "iopub.status.idle": "2023-01-26T23:12:00.512651Z",
     "shell.execute_reply": "2023-01-26T23:12:00.511956Z",
     "shell.execute_reply.started": "2023-01-26T23:12:00.509039Z"
    }
   },
   "outputs": [],
   "source": [
    "valid_genes = [ 'Aqr', 'Bach2', 'Bhlhe40']\n",
    "test_genes = [ 'Ets1', 'Fosb', 'Mafk', 'Stat3']"
   ]
  },
  {
   "cell_type": "code",
   "execution_count": 5,
   "id": "f6f44443-09d1-48fe-8c19-ae3521ef2f99",
   "metadata": {
    "execution": {
     "iopub.execute_input": "2023-01-26T23:12:13.258486Z",
     "iopub.status.busy": "2023-01-26T23:12:13.258092Z",
     "iopub.status.idle": "2023-01-26T23:12:13.263448Z",
     "shell.execute_reply": "2023-01-26T23:12:13.262648Z",
     "shell.execute_reply.started": "2023-01-26T23:12:13.258461Z"
    },
    "tags": []
   },
   "outputs": [],
   "source": [
    "def proportions(data, ko_gene, return_n = False):\n",
    "    ordering = ['progenitor','effector','terminal exhausted','cycling','other']\n",
    "    counts = np.zeros(5)\n",
    "    data_subset = data[data['condition'] == ko_gene]\n",
    "    for i,state in enumerate(ordering):\n",
    "        counts[i] = (data_subset['state'] == state).sum()\n",
    "    n = len(data_subset)\n",
    "    if return_n:\n",
    "        return counts / n, n\n",
    "    else:\n",
    "        return counts / n\n",
    "    "
   ]
  },
  {
   "cell_type": "code",
   "execution_count": 5,
   "id": "bc223396-930f-409e-819e-b26eba6d791c",
   "metadata": {
    "execution": {
     "iopub.execute_input": "2023-01-26T21:28:51.068149Z",
     "iopub.status.busy": "2023-01-26T21:28:51.067768Z",
     "iopub.status.idle": "2023-01-26T21:28:51.071813Z",
     "shell.execute_reply": "2023-01-26T21:28:51.071054Z",
     "shell.execute_reply.started": "2023-01-26T21:28:51.068125Z"
    },
    "tags": []
   },
   "outputs": [],
   "source": [
    "all_props = np.zeros((67,5))"
   ]
  },
  {
   "cell_type": "code",
   "execution_count": 6,
   "id": "a11dc166-d510-4498-a6f4-4d8e4a83e0b9",
   "metadata": {
    "execution": {
     "iopub.execute_input": "2023-01-26T21:28:51.343567Z",
     "iopub.status.busy": "2023-01-26T21:28:51.343147Z",
     "iopub.status.idle": "2023-01-26T21:28:51.427972Z",
     "shell.execute_reply": "2023-01-26T21:28:51.427364Z",
     "shell.execute_reply.started": "2023-01-26T21:28:51.343537Z"
    },
    "tags": []
   },
   "outputs": [],
   "source": [
    "genes = adata.obs['condition'].unique().tolist()\n",
    "for i,g in enumerate(genes):\n",
    "    all_props[i] = proportions(adata.obs,g)"
   ]
  },
  {
   "cell_type": "code",
   "execution_count": 7,
   "id": "c9a7ebc9-7edb-4def-be4f-715ef3e10060",
   "metadata": {
    "execution": {
     "iopub.execute_input": "2023-01-26T21:28:51.791428Z",
     "iopub.status.busy": "2023-01-26T21:28:51.791038Z",
     "iopub.status.idle": "2023-01-26T21:28:51.795444Z",
     "shell.execute_reply": "2023-01-26T21:28:51.794668Z",
     "shell.execute_reply.started": "2023-01-26T21:28:51.791404Z"
    },
    "tags": []
   },
   "outputs": [],
   "source": [
    "df = pd.DataFrame(data=all_props, index=genes)"
   ]
  },
  {
   "cell_type": "markdown",
   "id": "34e73297-6191-4b5a-89d0-89481dcaa866",
   "metadata": {},
   "source": [
    "# UMAP Setup"
   ]
  },
  {
   "cell_type": "code",
   "execution_count": 7,
   "id": "bad56e47-b21a-4c13-ab18-2e53b988aff6",
   "metadata": {
    "execution": {
     "iopub.execute_input": "2023-01-27T15:15:11.299592Z",
     "iopub.status.busy": "2023-01-27T15:15:11.299197Z",
     "iopub.status.idle": "2023-01-27T15:15:12.159613Z",
     "shell.execute_reply": "2023-01-27T15:15:12.158934Z",
     "shell.execute_reply.started": "2023-01-27T15:15:11.299567Z"
    },
    "tags": []
   },
   "outputs": [],
   "source": [
    "from cuml import UMAP, PCA, HDBSCAN, KMeans, DBSCAN\n",
    "import torch\n",
    "import cupy as cp\n",
    "from sklearn.model_selection import train_test_split\n",
    "from scipy.stats import mode as scimode"
   ]
  },
  {
   "cell_type": "code",
   "execution_count": 29,
   "id": "50209ddc-4765-4492-9ceb-de8f8de6b955",
   "metadata": {
    "execution": {
     "iopub.execute_input": "2023-01-27T15:19:24.799379Z",
     "iopub.status.busy": "2023-01-27T15:19:24.798982Z",
     "iopub.status.idle": "2023-01-27T15:19:47.805577Z",
     "shell.execute_reply": "2023-01-27T15:19:47.804895Z",
     "shell.execute_reply.started": "2023-01-27T15:19:24.799354Z"
    },
    "tags": []
   },
   "outputs": [],
   "source": [
    "cudata = cudf.DataFrame(adata.to_df())"
   ]
  },
  {
   "cell_type": "code",
   "execution_count": 9,
   "id": "c35753de-06d6-4a06-acb0-07cf449e6792",
   "metadata": {
    "execution": {
     "iopub.execute_input": "2023-01-27T15:15:40.652959Z",
     "iopub.status.busy": "2023-01-27T15:15:40.652243Z",
     "iopub.status.idle": "2023-01-27T15:15:40.663308Z",
     "shell.execute_reply": "2023-01-27T15:15:40.662646Z",
     "shell.execute_reply.started": "2023-01-27T15:15:40.652924Z"
    },
    "tags": []
   },
   "outputs": [],
   "source": [
    "colors = ['blue','red','green','yellow','pink']\n",
    "ordering = ['progenitor','effector','terminal exhausted','cycling','other']\n",
    "classes = [0,1,2,3,4]\n",
    "\n",
    "colordict = {s:c for (s,c) in zip(ordering, colors)}\n",
    "classdict = {s:c for (s,c) in zip(ordering, classes)}\n",
    "\n",
    "genecolors = [colordict[s] for s in adata.obs['state']]\n",
    "classes = [classdict[s] for s in adata.obs['state']]"
   ]
  },
  {
   "cell_type": "markdown",
   "id": "d772530d-dbae-4e2b-be4a-d6e6c959f2ab",
   "metadata": {
    "tags": []
   },
   "source": [
    "### Helper Functions"
   ]
  },
  {
   "cell_type": "code",
   "execution_count": 10,
   "id": "aa5e8a1a-0733-443c-9b9a-312128f33fc9",
   "metadata": {
    "execution": {
     "iopub.execute_input": "2023-01-27T15:15:40.664629Z",
     "iopub.status.busy": "2023-01-27T15:15:40.664372Z",
     "iopub.status.idle": "2023-01-27T15:15:40.671318Z",
     "shell.execute_reply": "2023-01-27T15:15:40.670573Z",
     "shell.execute_reply.started": "2023-01-27T15:15:40.664608Z"
    },
    "tags": []
   },
   "outputs": [],
   "source": [
    "def catgy_cluster_map(from_coords, from_cat, to_coords, to_cat):\n",
    "    # So that we can define a mapping\n",
    "    assert(len(np.unique(from_cat)) >= len(np.unique(to_cat)))\n",
    "    \n",
    "    dists = c1toc2(from_coords, from_cat, to_coords, to_cat)\n",
    "    dists = sorted(dists, key=lambda x: x[0][0])\n",
    "    \n",
    "    mapper = {c1:c2 for (c1,c2),d in dists}\n",
    "    return mapper"
   ]
  },
  {
   "cell_type": "code",
   "execution_count": 11,
   "id": "86e141d3-e393-4398-ab2b-d9a6eedfc541",
   "metadata": {
    "execution": {
     "iopub.execute_input": "2023-01-27T15:15:40.673489Z",
     "iopub.status.busy": "2023-01-27T15:15:40.673176Z",
     "iopub.status.idle": "2023-01-27T15:15:40.677058Z",
     "shell.execute_reply": "2023-01-27T15:15:40.676337Z",
     "shell.execute_reply.started": "2023-01-27T15:15:40.673467Z"
    },
    "tags": []
   },
   "outputs": [],
   "source": [
    "def get_centroid(posns):\n",
    "    return np.sum(posns, axis=0)/len(posns)"
   ]
  },
  {
   "cell_type": "code",
   "execution_count": 12,
   "id": "932dea8f-0a68-41fb-ad0c-0ae00bdd1c8a",
   "metadata": {
    "execution": {
     "iopub.execute_input": "2023-01-27T15:15:40.678289Z",
     "iopub.status.busy": "2023-01-27T15:15:40.678016Z",
     "iopub.status.idle": "2023-01-27T15:15:40.684348Z",
     "shell.execute_reply": "2023-01-27T15:15:40.683667Z",
     "shell.execute_reply.started": "2023-01-27T15:15:40.678269Z"
    },
    "tags": []
   },
   "outputs": [],
   "source": [
    "def c1toc2(coords1, clust1, coords2, clust2):\n",
    "    \"\"\"\n",
    "    coords1: nx2-dim numpy array of coordinates in embedded cluster\n",
    "    clust1: n-dim numpy array of clusters\n",
    "    \n",
    "    coords2: mx2-dim numpy array of coordinates in embedded cluster\n",
    "    clust2: m-dim numpy array of clusters\n",
    "    \"\"\"\n",
    "    cents1 = {}\n",
    "    for c in np.unique(clust1):\n",
    "        c_coords = coords1[clust1 == c]\n",
    "        cents1[c] = get_centroid(c_coords)\n",
    "        \n",
    "    cents2 = {}\n",
    "    for c in np.unique(clust2):\n",
    "        c_coords = coords2[clust2 == c]\n",
    "        cents2[c] = get_centroid(c_coords)\n",
    "    pairs = []\n",
    "    for c1 in cents1:\n",
    "        mindist = 10000\n",
    "        pair = (0,0)\n",
    "        for c2 in cents2:\n",
    "            dist = np.sum(np.square(cents1[c1] - cents2[c2]))\n",
    "            if dist < mindist:\n",
    "                mindist = dist\n",
    "                pair = (c1,c2)\n",
    "        pairs.append((pair,mindist))\n",
    "    return pairs"
   ]
  },
  {
   "cell_type": "code",
   "execution_count": 13,
   "id": "5f79a535-623a-46e4-a6e5-2f360e9c0b6e",
   "metadata": {
    "execution": {
     "iopub.execute_input": "2023-01-27T15:15:40.685495Z",
     "iopub.status.busy": "2023-01-27T15:15:40.685196Z",
     "iopub.status.idle": "2023-01-27T15:15:40.689758Z",
     "shell.execute_reply": "2023-01-27T15:15:40.689140Z",
     "shell.execute_reply.started": "2023-01-27T15:15:40.685475Z"
    },
    "tags": []
   },
   "outputs": [],
   "source": [
    "from scipy.stats import mode\n",
    "\n",
    "def cluster_match(adata, classdict, cluster_filter):\n",
    "    '''\n",
    "    cluster_filter: array of true/false that indicates which rows of adata we are concerned with\n",
    "    \n",
    "    returns: adata class given by classdict mapping\n",
    "    '''\n",
    "    cluster_data = [classdict[c] for c in adata.obs['state'][cluster_filter]]\n",
    "    cluster_mode = mode(cluster_data).mode[0]\n",
    "    return cluster_mode"
   ]
  },
  {
   "cell_type": "code",
   "execution_count": 14,
   "id": "76760b57-7518-434b-a9d6-8bffdc49787e",
   "metadata": {
    "execution": {
     "iopub.execute_input": "2023-01-27T15:15:40.690968Z",
     "iopub.status.busy": "2023-01-27T15:15:40.690677Z",
     "iopub.status.idle": "2023-01-27T15:15:40.696130Z",
     "shell.execute_reply": "2023-01-27T15:15:40.695585Z",
     "shell.execute_reply.started": "2023-01-27T15:15:40.690949Z"
    },
    "tags": []
   },
   "outputs": [],
   "source": [
    "def xentropy(p,q):\n",
    "    return -np.sum(p*np.log(q))"
   ]
  },
  {
   "cell_type": "code",
   "execution_count": 15,
   "id": "e603e423-c676-43c3-b9cd-0ce74d436241",
   "metadata": {
    "execution": {
     "iopub.execute_input": "2023-01-27T15:15:40.697285Z",
     "iopub.status.busy": "2023-01-27T15:15:40.697071Z",
     "iopub.status.idle": "2023-01-27T15:15:40.700870Z",
     "shell.execute_reply": "2023-01-27T15:15:40.700151Z",
     "shell.execute_reply.started": "2023-01-27T15:15:40.697267Z"
    },
    "tags": []
   },
   "outputs": [],
   "source": [
    "def EMD(p, q):\n",
    "    return np.abs(p-q).sum()"
   ]
  },
  {
   "cell_type": "code",
   "execution_count": 16,
   "id": "5737b5e1-8e72-471c-a416-2835327e8fec",
   "metadata": {
    "execution": {
     "iopub.execute_input": "2023-01-27T15:15:40.701868Z",
     "iopub.status.busy": "2023-01-27T15:15:40.701670Z",
     "iopub.status.idle": "2023-01-27T15:15:40.706442Z",
     "shell.execute_reply": "2023-01-27T15:15:40.705825Z",
     "shell.execute_reply.started": "2023-01-27T15:15:40.701851Z"
    },
    "tags": []
   },
   "outputs": [],
   "source": [
    "def proportions_clusters(data_subset, mapping, ordering=[0,1,2,3,4], return_n = False):\n",
    "    counts = np.zeros(len(ordering))\n",
    "    categories = data_subset.unique()\n",
    "    for i,cat in enumerate(categories):\n",
    "        counts[mapping[cat]] += (data_subset == cat).sum()\n",
    "    n = len(data_subset)\n",
    "    if return_n:\n",
    "        return counts / n, n\n",
    "    else:\n",
    "        return counts / n"
   ]
  },
  {
   "cell_type": "code",
   "execution_count": 17,
   "id": "020b5a84-1982-4b97-9b61-7426b0e70f73",
   "metadata": {
    "execution": {
     "iopub.execute_input": "2023-01-27T15:15:40.708303Z",
     "iopub.status.busy": "2023-01-27T15:15:40.708035Z",
     "iopub.status.idle": "2023-01-27T15:15:40.712698Z",
     "shell.execute_reply": "2023-01-27T15:15:40.711999Z",
     "shell.execute_reply.started": "2023-01-27T15:15:40.708283Z"
    }
   },
   "outputs": [],
   "source": [
    "def get_orig_cluster(adata, classdict, subset, cluster):\n",
    "    '''\n",
    "    cluster selects the elements of the subset selected\n",
    "    subset selects elements of adata\n",
    "    '''\n",
    "    indices_cluster = adata.obs['state'][subset].index[cluster]\n",
    "    states_cluster = adata.obs['state'][indices_cluster]\n",
    "    classes_cluster = [classdict[s] for s in states_cluster]\n",
    "    mode = scimode(classes_cluster).mode[0]\n",
    "    return mode"
   ]
  },
  {
   "cell_type": "code",
   "execution_count": 18,
   "id": "bb0e5df7-0189-440d-b8be-1225b79f96ef",
   "metadata": {
    "execution": {
     "iopub.execute_input": "2023-01-27T15:15:40.713782Z",
     "iopub.status.busy": "2023-01-27T15:15:40.713496Z",
     "iopub.status.idle": "2023-01-27T15:15:40.719880Z",
     "shell.execute_reply": "2023-01-27T15:15:40.719191Z",
     "shell.execute_reply.started": "2023-01-27T15:15:40.713762Z"
    }
   },
   "outputs": [],
   "source": [
    "def get_cluster_mapping_to_orig(adata, classdict, subset, labels):\n",
    "    \"\"\"\n",
    "    labels categorizes subset,\n",
    "    subset selects part of adata\n",
    "    \n",
    "    range of mapping will always be {0,1,2,3,4}\n",
    "    \"\"\"\n",
    "    mapping = {}\n",
    "    categories = labels.unique()\n",
    "    categories = categories[categories != -1]\n",
    "    for c in categories:\n",
    "        cluster = [c == cat for cat in labels.to_numpy()]\n",
    "        mapping[c] = get_orig_cluster(adata, classdict, subset, cluster)\n",
    "    return mapping"
   ]
  },
  {
   "cell_type": "markdown",
   "id": "04e0fbaa-e804-49ed-a0d0-c95207bfef30",
   "metadata": {
    "jp-MarkdownHeadingCollapsed": true,
    "tags": []
   },
   "source": [
    "# Umap Fiddling"
   ]
  },
  {
   "cell_type": "markdown",
   "id": "65e4d318-8061-4162-aa4c-f32ff314afef",
   "metadata": {
    "tags": []
   },
   "source": [
    "## PCA Transform"
   ]
  },
  {
   "cell_type": "code",
   "execution_count": 11,
   "id": "e9578a83-79f4-416d-850a-541fadf918e7",
   "metadata": {
    "execution": {
     "iopub.execute_input": "2023-01-26T19:58:54.991952Z",
     "iopub.status.busy": "2023-01-26T19:58:54.991643Z",
     "iopub.status.idle": "2023-01-26T19:59:21.423422Z",
     "shell.execute_reply": "2023-01-26T19:59:21.422793Z",
     "shell.execute_reply.started": "2023-01-26T19:58:54.991932Z"
    },
    "tags": []
   },
   "outputs": [],
   "source": [
    "pca_comps = 200\n",
    "\n",
    "pca_float = PCA(n_components = pca_comps)\n",
    "pca_float.fit(cudata)\n",
    "output = pca_float.transform(cudata)"
   ]
  },
  {
   "cell_type": "markdown",
   "id": "bba451d7-a4b3-4e78-ae09-af7303c78539",
   "metadata": {
    "tags": []
   },
   "source": [
    "## UMAP Fit and Transform 2d"
   ]
  },
  {
   "cell_type": "code",
   "execution_count": null,
   "id": "8fb76caf-5184-49e0-8b50-3d9ae43e2b7c",
   "metadata": {
    "tags": []
   },
   "outputs": [],
   "source": [
    "reducer = UMAP(n_neighbors=30,min_dist=0.3)\n",
    "embedding = reducer.fit_transform(output)\n",
    "embedding_big = reducer.fit_transform(cudata)"
   ]
  },
  {
   "cell_type": "code",
   "execution_count": null,
   "id": "354e9486-67b0-4331-8b80-5c2e7e2ab76f",
   "metadata": {
    "tags": []
   },
   "outputs": [],
   "source": [
    "plt.scatter(embedding_big[0].to_arrow().to_pylist(), embedding_big[1].to_arrow().to_pylist(), c=genecolors, s=10)\n",
    "plt.title('UMAP embedding of genes');"
   ]
  },
  {
   "cell_type": "code",
   "execution_count": null,
   "id": "aadb7f29-d58e-4923-b996-42d363f445c8",
   "metadata": {
    "tags": []
   },
   "outputs": [],
   "source": [
    "plt.scatter(embedding[0].to_arrow().to_pylist(), embedding[1].to_arrow().to_pylist(), c=genecolors, s=0.3)\n",
    "plt.title('UMAP embedding of genes');"
   ]
  },
  {
   "cell_type": "markdown",
   "id": "0c924bf6-b736-4f87-a5d1-aaaf2b7aee0b",
   "metadata": {
    "tags": []
   },
   "source": [
    "## UMAP Fit and Transform 3d"
   ]
  },
  {
   "cell_type": "code",
   "execution_count": null,
   "id": "7336a78a-5684-4503-aabc-3ddfe2be63ba",
   "metadata": {
    "tags": []
   },
   "outputs": [],
   "source": [
    "reducer3d = UMAP(n_neighbors=30,min_dist=0.3, n_components=3)\n",
    "gc.collect()"
   ]
  },
  {
   "cell_type": "code",
   "execution_count": null,
   "id": "85df55c2-69f2-460c-913f-f4324af2e961",
   "metadata": {
    "tags": []
   },
   "outputs": [],
   "source": [
    "embedding3d = reducer3d.fit_transform(output)"
   ]
  },
  {
   "cell_type": "code",
   "execution_count": null,
   "id": "7d481f6d-7752-49a1-b72d-e0f33c4eb5ac",
   "metadata": {
    "tags": []
   },
   "outputs": [],
   "source": [
    "embedding_big3d = reducer3d.fit_transform(cudata)"
   ]
  },
  {
   "cell_type": "code",
   "execution_count": null,
   "id": "8afd63be-378b-4196-bf63-feb41f592632",
   "metadata": {
    "tags": []
   },
   "outputs": [],
   "source": [
    "fig = plt.figure()\n",
    "ax = fig.add_subplot(111, projection='3d')\n",
    "plt.scatter(embedding3d[0].to_arrow().to_pylist(), embedding3d[1].to_arrow().to_pylist(), embedding3d[2].to_arrow().to_pylist(), c=genecolors)\n",
    "plt.title('UMAP embedding of genes');"
   ]
  },
  {
   "cell_type": "markdown",
   "id": "cfebd7e9-4203-4681-bd90-96decdd84740",
   "metadata": {},
   "source": [
    "# Experiment Time"
   ]
  },
  {
   "cell_type": "markdown",
   "id": "4552f069-210c-43de-8f6e-75d7a1ee4586",
   "metadata": {
    "tags": []
   },
   "source": [
    "### Set useful variables"
   ]
  },
  {
   "cell_type": "code",
   "execution_count": 28,
   "id": "3d40899e-ef57-493f-8d14-21b40806e092",
   "metadata": {
    "execution": {
     "iopub.execute_input": "2023-01-27T15:19:17.833214Z",
     "iopub.status.busy": "2023-01-27T15:19:17.832809Z",
     "iopub.status.idle": "2023-01-27T15:19:17.843585Z",
     "shell.execute_reply": "2023-01-27T15:19:17.842897Z",
     "shell.execute_reply.started": "2023-01-27T15:19:17.833189Z"
    },
    "tags": []
   },
   "outputs": [],
   "source": [
    "colors = ['blue','red','green','black','pink']\n",
    "ordering = ['progenitor','effector','terminal exhausted','cycling','other']\n",
    "classes = [0,1,2,3,4]\n",
    "\n",
    "colordict = {s:c for (s,c) in zip(ordering, colors)}\n",
    "classdict = {s:c for (s,c) in zip(ordering, classes)}\n",
    "\n",
    "genecolors = [colordict[s] for s in adata.obs['state']]\n",
    "classes = [classdict[s] for s in adata.obs['state']]"
   ]
  },
  {
   "cell_type": "markdown",
   "id": "f282524f-eeab-4f92-8438-17176a35811c",
   "metadata": {
    "tags": []
   },
   "source": [
    "### PCA"
   ]
  },
  {
   "cell_type": "code",
   "execution_count": null,
   "id": "be1064f3-4db3-46d7-a98e-c2bb93049ea1",
   "metadata": {},
   "outputs": [],
   "source": []
  },
  {
   "cell_type": "code",
   "execution_count": 30,
   "id": "b3146722-d94b-472a-b5bc-85afabcde7f9",
   "metadata": {
    "execution": {
     "iopub.execute_input": "2023-01-27T15:19:47.807931Z",
     "iopub.status.busy": "2023-01-27T15:19:47.807238Z",
     "iopub.status.idle": "2023-01-27T15:20:12.324916Z",
     "shell.execute_reply": "2023-01-27T15:20:12.324069Z",
     "shell.execute_reply.started": "2023-01-27T15:19:47.807893Z"
    },
    "tags": []
   },
   "outputs": [],
   "source": [
    "pca_comps = 100 # Number of components used in Innes's cell experiments\n",
    "\n",
    "pca_train = PCA(n_components = pca_comps)\n",
    "pca_train.fit(cudata)\n",
    "output = pca_train.transform(cudata)"
   ]
  },
  {
   "cell_type": "code",
   "execution_count": 32,
   "id": "f7e06136-082f-435f-be24-92c8ece3d4ed",
   "metadata": {
    "execution": {
     "iopub.execute_input": "2023-01-27T15:20:38.311550Z",
     "iopub.status.busy": "2023-01-27T15:20:38.311143Z",
     "iopub.status.idle": "2023-01-27T15:20:38.316828Z",
     "shell.execute_reply": "2023-01-27T15:20:38.315982Z",
     "shell.execute_reply.started": "2023-01-27T15:20:38.311526Z"
    }
   },
   "outputs": [
    {
     "data": {
      "text/plain": [
       "(28697, 15077)"
      ]
     },
     "execution_count": 32,
     "metadata": {},
     "output_type": "execute_result"
    }
   ],
   "source": [
    "cudata.shape"
   ]
  },
  {
   "cell_type": "code",
   "execution_count": 33,
   "id": "d2441995-8953-40a5-9bb5-694fccde854b",
   "metadata": {
    "execution": {
     "iopub.execute_input": "2023-01-27T15:23:35.608736Z",
     "iopub.status.busy": "2023-01-27T15:23:35.608321Z",
     "iopub.status.idle": "2023-01-27T15:23:35.613547Z",
     "shell.execute_reply": "2023-01-27T15:23:35.612731Z",
     "shell.execute_reply.started": "2023-01-27T15:23:35.608711Z"
    }
   },
   "outputs": [
    {
     "data": {
      "text/plain": [
       "(28697, 100)"
      ]
     },
     "execution_count": 33,
     "metadata": {},
     "output_type": "execute_result"
    }
   ],
   "source": [
    "output.shape"
   ]
  },
  {
   "cell_type": "code",
   "execution_count": 60,
   "id": "47a363a8-e7f3-4758-8281-f3cd3905041c",
   "metadata": {
    "execution": {
     "iopub.execute_input": "2023-01-27T15:30:12.159326Z",
     "iopub.status.busy": "2023-01-27T15:30:12.158940Z",
     "iopub.status.idle": "2023-01-27T15:30:13.249409Z",
     "shell.execute_reply": "2023-01-27T15:30:13.248691Z",
     "shell.execute_reply.started": "2023-01-27T15:30:12.159300Z"
    },
    "tags": []
   },
   "outputs": [],
   "source": [
    "tox2 = cudf.DataFrame([np.where(adata.var_names == 'Tox2', 1.0, 0.0).astype(np.float32)])"
   ]
  },
  {
   "cell_type": "code",
   "execution_count": 72,
   "id": "7b4ac487-b962-4b72-988c-8ddc75db8d2d",
   "metadata": {
    "execution": {
     "iopub.execute_input": "2023-01-27T15:40:04.706374Z",
     "iopub.status.busy": "2023-01-27T15:40:04.705945Z",
     "iopub.status.idle": "2023-01-27T15:40:06.083628Z",
     "shell.execute_reply": "2023-01-27T15:40:06.082960Z",
     "shell.execute_reply.started": "2023-01-27T15:40:04.706346Z"
    },
    "tags": []
   },
   "outputs": [],
   "source": [
    "tox2_transformed = pca_train.transform(tox2).to_pandas()"
   ]
  },
  {
   "cell_type": "code",
   "execution_count": 73,
   "id": "061f78a4-ff94-4090-a0d3-df3f24b983ad",
   "metadata": {
    "execution": {
     "iopub.execute_input": "2023-01-27T15:40:06.085972Z",
     "iopub.status.busy": "2023-01-27T15:40:06.085291Z",
     "iopub.status.idle": "2023-01-27T15:40:06.131545Z",
     "shell.execute_reply": "2023-01-27T15:40:06.130179Z",
     "shell.execute_reply.started": "2023-01-27T15:40:06.085935Z"
    },
    "tags": []
   },
   "outputs": [],
   "source": [
    "output_pd = output.to_pandas()"
   ]
  },
  {
   "cell_type": "code",
   "execution_count": 78,
   "id": "1ba12f58-3df3-46ea-8db5-a7ba560aa1df",
   "metadata": {
    "execution": {
     "iopub.execute_input": "2023-01-27T15:40:49.251299Z",
     "iopub.status.busy": "2023-01-27T15:40:49.250897Z",
     "iopub.status.idle": "2023-01-27T15:40:49.268177Z",
     "shell.execute_reply": "2023-01-27T15:40:49.267384Z",
     "shell.execute_reply.started": "2023-01-27T15:40:49.251275Z"
    },
    "tags": []
   },
   "outputs": [
    {
     "data": {
      "text/html": [
       "<div>\n",
       "<style scoped>\n",
       "    .dataframe tbody tr th:only-of-type {\n",
       "        vertical-align: middle;\n",
       "    }\n",
       "\n",
       "    .dataframe tbody tr th {\n",
       "        vertical-align: top;\n",
       "    }\n",
       "\n",
       "    .dataframe thead th {\n",
       "        text-align: right;\n",
       "    }\n",
       "</style>\n",
       "<table border=\"1\" class=\"dataframe\">\n",
       "  <thead>\n",
       "    <tr style=\"text-align: right;\">\n",
       "      <th></th>\n",
       "      <th>0</th>\n",
       "      <th>1</th>\n",
       "      <th>2</th>\n",
       "      <th>3</th>\n",
       "      <th>4</th>\n",
       "      <th>5</th>\n",
       "      <th>6</th>\n",
       "      <th>7</th>\n",
       "      <th>8</th>\n",
       "      <th>9</th>\n",
       "      <th>...</th>\n",
       "      <th>90</th>\n",
       "      <th>91</th>\n",
       "      <th>92</th>\n",
       "      <th>93</th>\n",
       "      <th>94</th>\n",
       "      <th>95</th>\n",
       "      <th>96</th>\n",
       "      <th>97</th>\n",
       "      <th>98</th>\n",
       "      <th>99</th>\n",
       "    </tr>\n",
       "  </thead>\n",
       "  <tbody>\n",
       "    <tr>\n",
       "      <th>0</th>\n",
       "      <td>-15.425419</td>\n",
       "      <td>8.81411</td>\n",
       "      <td>7.568922</td>\n",
       "      <td>1.928638</td>\n",
       "      <td>1.927655</td>\n",
       "      <td>-17.451067</td>\n",
       "      <td>5.320041</td>\n",
       "      <td>-13.848383</td>\n",
       "      <td>4.836361</td>\n",
       "      <td>6.841281</td>\n",
       "      <td>...</td>\n",
       "      <td>-0.096329</td>\n",
       "      <td>-0.983445</td>\n",
       "      <td>0.148843</td>\n",
       "      <td>0.668493</td>\n",
       "      <td>-0.746588</td>\n",
       "      <td>1.079629</td>\n",
       "      <td>0.216115</td>\n",
       "      <td>0.327432</td>\n",
       "      <td>1.244946</td>\n",
       "      <td>0.467263</td>\n",
       "    </tr>\n",
       "  </tbody>\n",
       "</table>\n",
       "<p>1 rows × 100 columns</p>\n",
       "</div>"
      ],
      "text/plain": [
       "          0        1         2         3         4          5         6   \\\n",
       "0 -15.425419  8.81411  7.568922  1.928638  1.927655 -17.451067  5.320041   \n",
       "\n",
       "          7         8         9   ...        90        91        92        93  \\\n",
       "0 -13.848383  4.836361  6.841281  ... -0.096329 -0.983445  0.148843  0.668493   \n",
       "\n",
       "         94        95        96        97        98        99  \n",
       "0 -0.746588  1.079629  0.216115  0.327432  1.244946  0.467263  \n",
       "\n",
       "[1 rows x 100 columns]"
      ]
     },
     "execution_count": 78,
     "metadata": {},
     "output_type": "execute_result"
    }
   ],
   "source": [
    "tox2_transformed"
   ]
  },
  {
   "cell_type": "code",
   "execution_count": 37,
   "id": "4236d9eb-f651-475b-b415-ebd719ed5430",
   "metadata": {
    "execution": {
     "iopub.execute_input": "2023-01-27T15:24:19.481697Z",
     "iopub.status.busy": "2023-01-27T15:24:19.481292Z",
     "iopub.status.idle": "2023-01-27T15:24:19.491020Z",
     "shell.execute_reply": "2023-01-27T15:24:19.490352Z",
     "shell.execute_reply.started": "2023-01-27T15:24:19.481673Z"
    },
    "tags": []
   },
   "outputs": [
    {
     "data": {
      "text/plain": [
       "0     0.020076\n",
       "1     0.008073\n",
       "2    -0.011117\n",
       "3    -0.000867\n",
       "4     0.009793\n",
       "        ...   \n",
       "95    0.006518\n",
       "96   -0.006384\n",
       "97    0.018550\n",
       "98    0.007777\n",
       "99   -0.011773\n",
       "Name: 0, Length: 100, dtype: float32"
      ]
     },
     "execution_count": 37,
     "metadata": {},
     "output_type": "execute_result"
    }
   ],
   "source": [
    "pca_train.components_[0]"
   ]
  },
  {
   "cell_type": "code",
   "execution_count": 14,
   "id": "1fd5c008-3016-40f1-9f38-8db98c737642",
   "metadata": {
    "execution": {
     "iopub.execute_input": "2023-01-26T19:59:46.375171Z",
     "iopub.status.busy": "2023-01-26T19:59:46.374875Z",
     "iopub.status.idle": "2023-01-26T19:59:46.378928Z",
     "shell.execute_reply": "2023-01-26T19:59:46.378321Z",
     "shell.execute_reply.started": "2023-01-26T19:59:46.375149Z"
    },
    "tags": []
   },
   "outputs": [],
   "source": [
    "# We don't want to train on genes without perturbations\n",
    "\n",
    "genes = adata.obs['condition'].unique().tolist()\n",
    "genes.remove(genes[0])"
   ]
  },
  {
   "cell_type": "markdown",
   "id": "19fc5502-1e7e-4adc-9742-a07a68013f7e",
   "metadata": {
    "tags": []
   },
   "source": [
    "### Data Splitting"
   ]
  },
  {
   "cell_type": "code",
   "execution_count": 16,
   "id": "514b59a6-9d0f-40df-8c75-bee844528384",
   "metadata": {
    "execution": {
     "iopub.execute_input": "2023-01-26T19:59:46.385510Z",
     "iopub.status.busy": "2023-01-26T19:59:46.385247Z",
     "iopub.status.idle": "2023-01-26T19:59:46.389657Z",
     "shell.execute_reply": "2023-01-26T19:59:46.388994Z",
     "shell.execute_reply.started": "2023-01-26T19:59:46.385491Z"
    },
    "tags": []
   },
   "outputs": [],
   "source": [
    "train, test = train_test_split(genes,train_size = 0.75, random_state = 34)"
   ]
  },
  {
   "cell_type": "code",
   "execution_count": 17,
   "id": "1f674b4b-fcf6-4bf8-8ebb-6513d393f47b",
   "metadata": {
    "execution": {
     "iopub.execute_input": "2023-01-26T19:59:46.390744Z",
     "iopub.status.busy": "2023-01-26T19:59:46.390469Z",
     "iopub.status.idle": "2023-01-26T19:59:46.396319Z",
     "shell.execute_reply": "2023-01-26T19:59:46.395742Z",
     "shell.execute_reply.started": "2023-01-26T19:59:46.390725Z"
    },
    "tags": []
   },
   "outputs": [],
   "source": [
    "train_set = set(train)\n",
    "test_set = set(test)"
   ]
  },
  {
   "cell_type": "code",
   "execution_count": 18,
   "id": "c3a6a13d-c0aa-4aa3-a742-7e2fb6e21ba1",
   "metadata": {
    "execution": {
     "iopub.execute_input": "2023-01-26T19:59:46.397583Z",
     "iopub.status.busy": "2023-01-26T19:59:46.397180Z",
     "iopub.status.idle": "2023-01-26T19:59:46.423068Z",
     "shell.execute_reply": "2023-01-26T19:59:46.422454Z",
     "shell.execute_reply.started": "2023-01-26T19:59:46.397554Z"
    },
    "tags": []
   },
   "outputs": [],
   "source": [
    "train_ind = [x in train_set for x in adata.obs['condition']]\n",
    "train_x = output[train_ind]\n",
    "train_y = cudf.DataFrame([classdict[s] for s in adata.obs['state'][train_ind]])"
   ]
  },
  {
   "cell_type": "code",
   "execution_count": 19,
   "id": "e1ed9f9e-fc1c-4c76-9746-f49a77ec46bd",
   "metadata": {
    "execution": {
     "iopub.execute_input": "2023-01-26T19:59:46.424218Z",
     "iopub.status.busy": "2023-01-26T19:59:46.423955Z",
     "iopub.status.idle": "2023-01-26T19:59:46.440861Z",
     "shell.execute_reply": "2023-01-26T19:59:46.440332Z",
     "shell.execute_reply.started": "2023-01-26T19:59:46.424198Z"
    },
    "tags": []
   },
   "outputs": [],
   "source": [
    "test_ind = [x in test_set for x in adata.obs['condition']]\n",
    "test_x = output[test_ind]\n",
    "test_y = cudf.DataFrame([classdict[s] for s in adata.obs['state'][test_ind]])"
   ]
  },
  {
   "cell_type": "code",
   "execution_count": 20,
   "id": "bc0e1ac3-3b30-4315-81ca-24585cc9617c",
   "metadata": {
    "execution": {
     "iopub.execute_input": "2023-01-26T19:59:46.441911Z",
     "iopub.status.busy": "2023-01-26T19:59:46.441633Z",
     "iopub.status.idle": "2023-01-26T19:59:46.459969Z",
     "shell.execute_reply": "2023-01-26T19:59:46.459412Z",
     "shell.execute_reply.started": "2023-01-26T19:59:46.441889Z"
    },
    "tags": []
   },
   "outputs": [],
   "source": [
    "cattest = [classdict[s] for s in adata.obs['state'][test_ind]]\n",
    "colortest = [colordict[s] for s in adata.obs['state'][test_ind]]\n",
    "\n",
    "colortrain = [colordict[s] for s in adata.obs['state'][train_ind]]\n",
    "cattrain = np.array([classdict[s] for s in adata.obs['state'][train_ind]])"
   ]
  },
  {
   "cell_type": "markdown",
   "id": "dec263f3-64a5-4ba0-b1ac-e84a609baf08",
   "metadata": {
    "tags": []
   },
   "source": [
    "### Embed and Plot"
   ]
  },
  {
   "cell_type": "code",
   "execution_count": 46,
   "id": "37e60bce-577b-4852-96be-735ee336b29e",
   "metadata": {
    "execution": {
     "iopub.execute_input": "2023-01-26T21:39:38.859054Z",
     "iopub.status.busy": "2023-01-26T21:39:38.858658Z",
     "iopub.status.idle": "2023-01-26T21:39:39.287786Z",
     "shell.execute_reply": "2023-01-26T21:39:39.286960Z",
     "shell.execute_reply.started": "2023-01-26T21:39:38.859029Z"
    },
    "tags": []
   },
   "outputs": [
    {
     "data": {
      "text/plain": [
       "UMAP()"
      ]
     },
     "execution_count": 46,
     "metadata": {},
     "output_type": "execute_result"
    }
   ],
   "source": [
    "reducer = UMAP(n_neighbors=30, min_dist=0.1)\n",
    "reducer.fit(train_x,train_y, )"
   ]
  },
  {
   "cell_type": "code",
   "execution_count": null,
   "id": "f27b064e-63e2-4aee-9459-878776372fc6",
   "metadata": {
    "tags": []
   },
   "outputs": [],
   "source": [
    "y_train_est = reducer.transform(train_x)"
   ]
  },
  {
   "cell_type": "code",
   "execution_count": null,
   "id": "bb1ae233-4165-4f9c-a5fc-a34308bd8837",
   "metadata": {
    "tags": []
   },
   "outputs": [],
   "source": [
    "y_est = reducer.transform(test_x)"
   ]
  },
  {
   "cell_type": "code",
   "execution_count": null,
   "id": "0e9bf18a-397b-4514-9982-ceb42487fa48",
   "metadata": {
    "tags": []
   },
   "outputs": [],
   "source": [
    "plt.scatter(y_est[0].to_arrow().to_pylist(), y_est[1].to_arrow().to_pylist(), c=colortest, s=0.3)\n",
    "plt.title('UMAP embedding of genes');"
   ]
  },
  {
   "cell_type": "code",
   "execution_count": null,
   "id": "b08db0e3-5cec-450a-be33-9523528c0658",
   "metadata": {
    "tags": []
   },
   "outputs": [],
   "source": [
    "plt.scatter(y_train_est[0].to_arrow().to_pylist(), y_train_est[1].to_arrow().to_pylist(), c=colortrain, s=0.3)\n",
    "plt.title('UMAP embedding of genes');"
   ]
  },
  {
   "cell_type": "markdown",
   "id": "7ca90d18-a2e1-4a80-8e6f-5c074b836b4f",
   "metadata": {
    "jp-MarkdownHeadingCollapsed": true,
    "tags": []
   },
   "source": [
    "# Map Clusters"
   ]
  },
  {
   "cell_type": "markdown",
   "id": "36cf6b5e-3498-44d6-a789-a2a0cbc067b6",
   "metadata": {
    "jp-MarkdownHeadingCollapsed": true,
    "tags": []
   },
   "source": [
    "### KMeans Clustering"
   ]
  },
  {
   "cell_type": "code",
   "execution_count": null,
   "id": "79187df9-2e86-4b07-9fa5-876dc121d582",
   "metadata": {
    "tags": []
   },
   "outputs": [],
   "source": [
    "kmeans = KMeans(n_clusters = 6)\n",
    "cats_kmeans = kmeans.fit_predict(y_est)"
   ]
  },
  {
   "cell_type": "code",
   "execution_count": null,
   "id": "549e5b97-372e-4751-9332-a0cab050cb73",
   "metadata": {
    "tags": []
   },
   "outputs": [],
   "source": [
    "plt.scatter(y_est[0].to_arrow().to_pylist(), \n",
    "            y_est[1].to_arrow().to_pylist(),\n",
    "            c=kmeans.labels_.to_numpy(),\n",
    "            s=0.13,\n",
    "            cmap='Spectral');"
   ]
  },
  {
   "cell_type": "markdown",
   "id": "d08de7d9-df45-4146-bb09-a8186ce718a1",
   "metadata": {
    "jp-MarkdownHeadingCollapsed": true,
    "tags": []
   },
   "source": [
    "### HDBSCAN Clusters of Test"
   ]
  },
  {
   "cell_type": "code",
   "execution_count": null,
   "id": "4811c3bd-9bab-4476-a030-5333b6003753",
   "metadata": {
    "tags": []
   },
   "outputs": [],
   "source": [
    "hdbscan = HDBSCAN(min_samples=10,\n",
    "    min_cluster_size=100,)\n",
    "cats_hdb = hdbscan.fit_predict(y_est)"
   ]
  },
  {
   "cell_type": "code",
   "execution_count": null,
   "id": "88d4d95b-ff58-4108-8ca7-5af17cdf9fee",
   "metadata": {
    "tags": []
   },
   "outputs": [],
   "source": [
    "plt.scatter(y_est[0].to_arrow().to_pylist(), \n",
    "            y_est[1].to_arrow().to_pylist(),\n",
    "            c=hdbscan.labels_.to_numpy(),\n",
    "            s=0.13,\n",
    "            cmap='Spectral');"
   ]
  },
  {
   "cell_type": "markdown",
   "id": "98299321-f0be-43d4-95fc-8d092c4996ec",
   "metadata": {
    "jp-MarkdownHeadingCollapsed": true,
    "tags": []
   },
   "source": [
    "### DBSCAN Clustering of Test"
   ]
  },
  {
   "cell_type": "code",
   "execution_count": null,
   "id": "42067256-730c-4faa-a08f-d033a36f1f85",
   "metadata": {
    "tags": []
   },
   "outputs": [],
   "source": [
    "dbscan = DBSCAN()\n",
    "cats_db = dbscan.fit_predict(y_est)\n",
    "clustered = [c >= 0 for c in cats_db.to_numpy()]\n",
    "y_est_dn = y_est[clustered]\n",
    "y_est_labels = dbscan.labels_[clustered].to_numpy()"
   ]
  },
  {
   "cell_type": "code",
   "execution_count": null,
   "id": "60972e0e-c987-4353-82c8-68a6aba63c94",
   "metadata": {
    "tags": []
   },
   "outputs": [],
   "source": [
    "plt.scatter(y_est[0][clustered].to_arrow().to_pylist(), \n",
    "            y_est[1][clustered].to_arrow().to_pylist(),\n",
    "            c=dbscan.labels_[clustered].to_numpy(),\n",
    "            s=0.13,\n",
    "            cmap='Spectral');"
   ]
  },
  {
   "cell_type": "code",
   "execution_count": null,
   "id": "7e70571b-054c-4e09-9256-81b9555521a4",
   "metadata": {
    "tags": []
   },
   "outputs": [],
   "source": [
    "plt.scatter(y_est[0][clustered].to_arrow().to_pylist(), \n",
    "            y_est[1][clustered].to_arrow().to_pylist(),\n",
    "            c=pd.Series(cattest)[clustered].to_numpy(),\n",
    "            s=0.13,\n",
    "            cmap='Spectral');"
   ]
  },
  {
   "cell_type": "markdown",
   "id": "ec788833-906f-44bc-830c-1b352e0ad7f5",
   "metadata": {
    "jp-MarkdownHeadingCollapsed": true,
    "tags": []
   },
   "source": [
    "### HDBScan clustering of train with threshold"
   ]
  },
  {
   "cell_type": "code",
   "execution_count": null,
   "id": "d70a429f-9035-49fb-9cb8-6ba63f5f8207",
   "metadata": {
    "tags": []
   },
   "outputs": [],
   "source": [
    "thresh = 0.5\n",
    "\n",
    "hdbscan = HDBSCAN(min_samples=10,\n",
    "    min_cluster_size=100,)\n",
    "\n",
    "hdbscan.fit_predict(y_train_est)\n",
    "\n",
    "clustered = [p > thresh for p in hdbscan.probabilities_.to_numpy()]\n",
    "\n",
    "ytr_dn = y_train_est[clustered]\n",
    "ytr_labels = hdbscan.labels_[clustered].to_numpy()\n",
    "\n",
    "plt.scatter(ytr_dn[0].to_numpy(), \n",
    "            ytr_dn[1].to_numpy(),\n",
    "            c=ytr_labels,\n",
    "            s=0.13,\n",
    "            cmap='Spectral');\n",
    "\n",
    "n_clusters = np.unique(hdbscan.labels_[clustered].to_numpy())"
   ]
  },
  {
   "cell_type": "markdown",
   "id": "93f0875b-080b-4126-9168-bb56be19114b",
   "metadata": {
    "tags": []
   },
   "source": [
    "### Compute clusters and distribution diff"
   ]
  },
  {
   "cell_type": "code",
   "execution_count": null,
   "id": "b23a0e05-1f8b-481c-9a07-927950dc39f7",
   "metadata": {
    "tags": []
   },
   "outputs": [],
   "source": [
    "# est train to est test categories\n",
    "dists = c1toc2(ytr_dn.to_numpy(),ytr_labels,y_est_dn.to_numpy(), y_est_labels)\n",
    "dists = sorted(dists, key=lambda x: x[0][0])\n",
    "# This is finnicky\n",
    "#dists = list(filter(lambda d: d[1] < 2, dists))\n",
    "c1_order = [d[0][0] for d in dists]\n",
    "c2_order = [d[0][1] for d in dists]\n",
    "\n",
    "#p1 = proportions_clusters(data_subset = ytr_labels, ordering = c1_order)\n",
    "#p2 = proportions_clusters(data_subset = y_est_labels, ordering = c2_order)"
   ]
  },
  {
   "cell_type": "code",
   "execution_count": null,
   "id": "4a671882-7de4-461a-970f-59f5c0c9550c",
   "metadata": {
    "tags": []
   },
   "outputs": [],
   "source": [
    "EMD(p1,p2), xentropy(p1,p2)"
   ]
  },
  {
   "cell_type": "code",
   "execution_count": null,
   "id": "589b2c41-639d-4d4e-bf6c-734e73117b29",
   "metadata": {
    "tags": []
   },
   "outputs": [],
   "source": [
    "dists = c1toc2(y_est_dn.to_numpy(), y_est_labels, y_est.to_numpy(), pd.Series(cattest))\n",
    "dists = sorted(dists, key=lambda x: x[0][0])\n",
    "# This is finnicky\n",
    "#dists = list(filter(lambda d: d[1] < 2, dists))\n",
    "c1_order = [d[0][0] for d in dists]\n",
    "c2_order = [d[0][1] for d in dists]\n",
    "\n",
    "#p1 = proportions_clusters(data_subset = y_est_labels, ordering = c1_order)\n",
    "#p2 = proportions_clusters(data_subset = cattest, ordering = c2_order)"
   ]
  },
  {
   "cell_type": "code",
   "execution_count": null,
   "id": "8139023d-0c37-4b68-98eb-90b079ac78f4",
   "metadata": {
    "tags": []
   },
   "outputs": [],
   "source": [
    "mapper = catgy_cluster_map(y_est_dn.to_numpy(), y_est_labels, y_est.to_numpy(), pd.Series(cattest))"
   ]
  },
  {
   "cell_type": "code",
   "execution_count": null,
   "id": "a30b01f5-8ee1-4429-9670-4a968488c7bd",
   "metadata": {
    "tags": []
   },
   "outputs": [],
   "source": [
    "y_est_mapped = pd.Series([mapper[x] for x in y_est_labels])\n",
    "p1 = proportions_clusters(data_subset = y_est_mapped, ordering = [0,1,2,3,4])\n",
    "p2 = proportions_clusters(data_subset = pd.Series(cattest), ordering = [0,1,2,3,4])"
   ]
  },
  {
   "cell_type": "code",
   "execution_count": null,
   "id": "7a5fee4c-6644-4e41-87d8-142c1f2bb40d",
   "metadata": {
    "tags": []
   },
   "outputs": [],
   "source": [
    "EMD(p1,p2), xentropy(p1,p2)"
   ]
  },
  {
   "cell_type": "markdown",
   "id": "2e78e057-0e9f-4ee0-949d-fba85c4a1a38",
   "metadata": {
    "jp-MarkdownHeadingCollapsed": true,
    "tags": []
   },
   "source": [
    "# Run Experiment with Unperturbed and Simulated Perturbed gene"
   ]
  },
  {
   "cell_type": "code",
   "execution_count": 19,
   "id": "999acae2-f848-4809-a586-576fd8adefe7",
   "metadata": {
    "execution": {
     "iopub.execute_input": "2023-01-26T21:29:18.552504Z",
     "iopub.status.busy": "2023-01-26T21:29:18.552308Z",
     "iopub.status.idle": "2023-01-26T21:29:44.016983Z",
     "shell.execute_reply": "2023-01-26T21:29:44.016333Z",
     "shell.execute_reply.started": "2023-01-26T21:29:18.552486Z"
    },
    "tags": []
   },
   "outputs": [],
   "source": [
    "pca_comps = 100 # Number of components used in Innes's cell experiments\n",
    "\n",
    "pca_train = PCA(n_components = pca_comps)\n",
    "pca_train.fit(cudata)\n",
    "output = pca_train.transform(cudata)"
   ]
  },
  {
   "cell_type": "code",
   "execution_count": 20,
   "id": "f0aabe7c-e958-49b7-8cb7-67572d622788",
   "metadata": {
    "execution": {
     "iopub.execute_input": "2023-01-26T21:29:44.018168Z",
     "iopub.status.busy": "2023-01-26T21:29:44.017866Z",
     "iopub.status.idle": "2023-01-26T21:29:44.023190Z",
     "shell.execute_reply": "2023-01-26T21:29:44.022574Z",
     "shell.execute_reply.started": "2023-01-26T21:29:44.018137Z"
    },
    "tags": []
   },
   "outputs": [],
   "source": [
    "catunpt = [classdict[s] for s in adata.obs['state'][adata.obs['condition'] == 'Unperturbed']]"
   ]
  },
  {
   "cell_type": "code",
   "execution_count": 21,
   "id": "f769022e-c15a-4be4-91f6-b4e70bcbe139",
   "metadata": {
    "execution": {
     "iopub.execute_input": "2023-01-26T21:29:44.024393Z",
     "iopub.status.busy": "2023-01-26T21:29:44.024108Z",
     "iopub.status.idle": "2023-01-26T21:29:44.028196Z",
     "shell.execute_reply": "2023-01-26T21:29:44.027565Z",
     "shell.execute_reply.started": "2023-01-26T21:29:44.024373Z"
    },
    "tags": []
   },
   "outputs": [],
   "source": [
    "unpert_index = adata.obs['condition'] == 'Unperturbed'"
   ]
  },
  {
   "cell_type": "code",
   "execution_count": 22,
   "id": "f83e71a7-a87b-4f82-90d1-0047ca4ca525",
   "metadata": {
    "execution": {
     "iopub.execute_input": "2023-01-26T21:29:44.029282Z",
     "iopub.status.busy": "2023-01-26T21:29:44.029082Z",
     "iopub.status.idle": "2023-01-26T21:29:44.042056Z",
     "shell.execute_reply": "2023-01-26T21:29:44.041529Z",
     "shell.execute_reply.started": "2023-01-26T21:29:44.029264Z"
    },
    "tags": []
   },
   "outputs": [],
   "source": [
    "genes_unpert = output[unpert_index]"
   ]
  },
  {
   "cell_type": "code",
   "execution_count": 23,
   "id": "fcc7bedf-7484-41a2-95ae-32af7d9b60a0",
   "metadata": {
    "execution": {
     "iopub.execute_input": "2023-01-26T21:29:44.043575Z",
     "iopub.status.busy": "2023-01-26T21:29:44.042976Z",
     "iopub.status.idle": "2023-01-26T21:29:44.066239Z",
     "shell.execute_reply": "2023-01-26T21:29:44.065617Z",
     "shell.execute_reply.started": "2023-01-26T21:29:44.043541Z"
    },
    "tags": []
   },
   "outputs": [],
   "source": [
    "train_ind = [x != 'Unperturbed' for x in adata.obs['condition']]\n",
    "train_x = output[train_ind]\n",
    "train_y = cudf.DataFrame([classdict[s] for s in adata.obs['state'][train_ind]])"
   ]
  },
  {
   "cell_type": "code",
   "execution_count": 24,
   "id": "cdad1ca6-2a44-45b9-ac48-355b1afd6f58",
   "metadata": {
    "execution": {
     "iopub.execute_input": "2023-01-26T21:29:44.067378Z",
     "iopub.status.busy": "2023-01-26T21:29:44.067082Z",
     "iopub.status.idle": "2023-01-26T21:29:44.071040Z",
     "shell.execute_reply": "2023-01-26T21:29:44.070283Z",
     "shell.execute_reply.started": "2023-01-26T21:29:44.067357Z"
    },
    "tags": []
   },
   "outputs": [],
   "source": [
    "test = adata.obs['state'].copy()"
   ]
  },
  {
   "cell_type": "code",
   "execution_count": 25,
   "id": "aa5c8733-17c6-40ce-a818-e11ec853eb61",
   "metadata": {
    "execution": {
     "iopub.execute_input": "2023-01-26T21:29:44.072285Z",
     "iopub.status.busy": "2023-01-26T21:29:44.072020Z",
     "iopub.status.idle": "2023-01-26T21:29:44.750510Z",
     "shell.execute_reply": "2023-01-26T21:29:44.749753Z",
     "shell.execute_reply.started": "2023-01-26T21:29:44.072264Z"
    },
    "tags": []
   },
   "outputs": [
    {
     "data": {
      "text/plain": [
       "UMAP()"
      ]
     },
     "execution_count": 25,
     "metadata": {},
     "output_type": "execute_result"
    }
   ],
   "source": [
    "reducer = UMAP(n_neighbors=30, min_dist=0.1)\n",
    "reducer.fit(train_x,train_y)"
   ]
  },
  {
   "cell_type": "code",
   "execution_count": 26,
   "id": "97422e4c-101b-445f-ac10-c738cc254d7e",
   "metadata": {
    "execution": {
     "iopub.execute_input": "2023-01-26T21:29:44.751763Z",
     "iopub.status.busy": "2023-01-26T21:29:44.751455Z",
     "iopub.status.idle": "2023-01-26T21:29:44.885330Z",
     "shell.execute_reply": "2023-01-26T21:29:44.884715Z",
     "shell.execute_reply.started": "2023-01-26T21:29:44.751740Z"
    },
    "tags": []
   },
   "outputs": [],
   "source": [
    "train_x_embed = reducer.transform(train_x)"
   ]
  },
  {
   "cell_type": "code",
   "execution_count": 27,
   "id": "22a1732b-3f45-4385-835f-f2ff89597cfb",
   "metadata": {
    "execution": {
     "iopub.execute_input": "2023-01-26T21:29:44.886530Z",
     "iopub.status.busy": "2023-01-26T21:29:44.886232Z",
     "iopub.status.idle": "2023-01-26T21:29:44.937136Z",
     "shell.execute_reply": "2023-01-26T21:29:44.936449Z",
     "shell.execute_reply.started": "2023-01-26T21:29:44.886507Z"
    },
    "tags": []
   },
   "outputs": [],
   "source": [
    "unpert_y = reducer.transform(genes_unpert)"
   ]
  },
  {
   "cell_type": "code",
   "execution_count": 134,
   "id": "42d19c62-5de5-4583-92dc-85dca7facee9",
   "metadata": {
    "execution": {
     "iopub.execute_input": "2023-01-26T21:09:03.763460Z",
     "iopub.status.busy": "2023-01-26T21:09:03.763158Z",
     "iopub.status.idle": "2023-01-26T21:09:03.770071Z",
     "shell.execute_reply": "2023-01-26T21:09:03.769321Z",
     "shell.execute_reply.started": "2023-01-26T21:09:03.763440Z"
    },
    "tags": []
   },
   "outputs": [],
   "source": [
    "mapping = get_cluster_mapping_to_orig(adata, classdict, subset, cats_dbscan.to_pandas())\n",
    "\n",
    "proportions_clusters(data_subset = pd.Series(y_unpert_labels), mapping=mapping)\n"
   ]
  },
  {
   "cell_type": "code",
   "execution_count": null,
   "id": "503e9971-db18-4d06-82ed-26ba02a81c29",
   "metadata": {},
   "outputs": [],
   "source": [
    "thresh = 0.5\n",
    "\n",
    "hdbscan = HDBSCAN(min_samples=10,\n",
    "    min_cluster_size=100,)\n",
    "\n",
    "hdbscan.fit_predict(train_x_embed)\n",
    "\n",
    "clustered = [p > thresh for p in hdbscan.probabilities_.to_numpy()]\n",
    "\n",
    "x_embed_test = y_train_est[clustered]\n",
    "ytr_labels = hdbscan.labels_[clustered].to_numpy()\n",
    "\n",
    "plt.scatter(ytr_dn[0].to_numpy(), \n",
    "            ytr_dn[1].to_numpy(),\n",
    "            c=ytr_labels,\n",
    "            s=0.13,\n",
    "            cmap='Spectral');"
   ]
  },
  {
   "cell_type": "code",
   "execution_count": 135,
   "id": "b1ba7003-773e-49e8-869b-75893a844f88",
   "metadata": {
    "execution": {
     "iopub.execute_input": "2023-01-26T21:10:22.496506Z",
     "iopub.status.busy": "2023-01-26T21:10:22.496114Z",
     "iopub.status.idle": "2023-01-26T21:10:22.518917Z",
     "shell.execute_reply": "2023-01-26T21:10:22.518319Z",
     "shell.execute_reply.started": "2023-01-26T21:10:22.496479Z"
    },
    "tags": []
   },
   "outputs": [],
   "source": [
    "dbscan = DBSCAN()\n",
    "cats_dbscan = dbscan.fit_predict(y_unpert)\n",
    "clustered = [c >= 0 for c in cats_dbscan.to_numpy()]\n",
    "y_unpert_dn = y_unpert[clustered]\n",
    "y_unpert_labels = dbscan.labels_[clustered].to_numpy()"
   ]
  },
  {
   "cell_type": "markdown",
   "id": "495a0462-9c88-4a26-be1c-d658c7ae6013",
   "metadata": {
    "jp-MarkdownHeadingCollapsed": true,
    "tags": []
   },
   "source": [
    "# The Real Experiment"
   ]
  },
  {
   "cell_type": "markdown",
   "id": "763fd00a-9ce6-42b8-ae05-a66bee42b316",
   "metadata": {},
   "source": [
    "### PCA"
   ]
  },
  {
   "cell_type": "code",
   "execution_count": 132,
   "id": "a63dd572-26db-4a9f-a09d-077309590df5",
   "metadata": {
    "execution": {
     "iopub.execute_input": "2023-01-27T03:51:04.466591Z",
     "iopub.status.busy": "2023-01-27T03:51:04.466199Z",
     "iopub.status.idle": "2023-01-27T03:51:26.774576Z",
     "shell.execute_reply": "2023-01-27T03:51:26.773797Z",
     "shell.execute_reply.started": "2023-01-27T03:51:04.466564Z"
    },
    "tags": []
   },
   "outputs": [
    {
     "data": {
      "text/plain": [
       "PCA()"
      ]
     },
     "execution_count": 132,
     "metadata": {},
     "output_type": "execute_result"
    }
   ],
   "source": [
    "pca_comps = 100\n",
    "pca_train = PCA(n_components = pca_comps)\n",
    "pca_train.fit(cudata)"
   ]
  },
  {
   "cell_type": "markdown",
   "id": "53305388-579e-4947-aee8-e9517637a47a",
   "metadata": {},
   "source": [
    "### Data Prep"
   ]
  },
  {
   "cell_type": "code",
   "execution_count": 96,
   "id": "141a72f3-2b40-4b20-9543-ebf591ff8af6",
   "metadata": {
    "execution": {
     "iopub.execute_input": "2023-01-27T00:14:27.543916Z",
     "iopub.status.busy": "2023-01-27T00:14:27.543483Z",
     "iopub.status.idle": "2023-01-27T00:14:28.936551Z",
     "shell.execute_reply": "2023-01-27T00:14:28.935901Z",
     "shell.execute_reply.started": "2023-01-27T00:14:27.543890Z"
    },
    "tags": []
   },
   "outputs": [],
   "source": [
    "\n",
    "#gene_removed = test_genes[0]\n",
    "gene_removed = 'Tox2'\n",
    "unpert_ind = adata.obs['condition'] == 'Unperturbed'\n",
    "adata_unpert = adata[unpert_ind]\n",
    "\n",
    "ind = (adata.var_names == gene_removed).nonzero()[0]\n",
    "\n",
    "adata_pert_copy = adata_unpert.to_df().to_numpy(copy=True)\n",
    "adata_pert_copy[:,ind] = 0"
   ]
  },
  {
   "cell_type": "code",
   "execution_count": 97,
   "id": "2592f200-c940-4233-a090-4caf5bb0bc55",
   "metadata": {
    "execution": {
     "iopub.execute_input": "2023-01-27T00:14:28.938768Z",
     "iopub.status.busy": "2023-01-27T00:14:28.938127Z",
     "iopub.status.idle": "2023-01-27T00:14:31.461188Z",
     "shell.execute_reply": "2023-01-27T00:14:31.460395Z",
     "shell.execute_reply.started": "2023-01-27T00:14:28.938734Z"
    },
    "tags": []
   },
   "outputs": [],
   "source": [
    "pert_cudata = cudf.DataFrame(adata_pert_copy)\n",
    "\n",
    "output = pca_train.transform(pert_cudata)"
   ]
  },
  {
   "cell_type": "code",
   "execution_count": 98,
   "id": "a9734d93-b1b9-4e59-af7c-2913ab175258",
   "metadata": {
    "execution": {
     "iopub.execute_input": "2023-01-27T00:14:31.462656Z",
     "iopub.status.busy": "2023-01-27T00:14:31.462324Z",
     "iopub.status.idle": "2023-01-27T00:14:34.046110Z",
     "shell.execute_reply": "2023-01-27T00:14:34.045458Z",
     "shell.execute_reply.started": "2023-01-27T00:14:31.462629Z"
    },
    "tags": []
   },
   "outputs": [],
   "source": [
    "train_ind = [x != 'Unperturbed' for x in adata.obs['condition']]\n",
    "# Project train data into lower dimension\n",
    "train_x = pca_train.transform(cudata[train_ind])\n",
    "# Known labels for train data\n",
    "train_y = cudf.DataFrame([classdict[s] for s in adata.obs['state'][train_ind]])"
   ]
  },
  {
   "cell_type": "markdown",
   "id": "da01a593-3b04-40fc-86a6-cdd075b5d9fd",
   "metadata": {},
   "source": [
    "### UMAP Fit, Embed"
   ]
  },
  {
   "cell_type": "code",
   "execution_count": 99,
   "id": "8a617a1a-0078-4fef-9109-e2d1f187c0f5",
   "metadata": {
    "execution": {
     "iopub.execute_input": "2023-01-27T00:14:34.049881Z",
     "iopub.status.busy": "2023-01-27T00:14:34.049564Z",
     "iopub.status.idle": "2023-01-27T00:14:34.487348Z",
     "shell.execute_reply": "2023-01-27T00:14:34.486499Z",
     "shell.execute_reply.started": "2023-01-27T00:14:34.049859Z"
    },
    "tags": []
   },
   "outputs": [
    {
     "data": {
      "text/plain": [
       "UMAP()"
      ]
     },
     "execution_count": 99,
     "metadata": {},
     "output_type": "execute_result"
    }
   ],
   "source": [
    "reducer = UMAP(n_neighbors=30, min_dist=0.1)\n",
    "reducer.fit(train_x,train_y)"
   ]
  },
  {
   "cell_type": "code",
   "execution_count": 100,
   "id": "6cc8d0a3-331f-4a61-8898-517eae72f42a",
   "metadata": {
    "execution": {
     "iopub.execute_input": "2023-01-27T00:14:34.488755Z",
     "iopub.status.busy": "2023-01-27T00:14:34.488393Z",
     "iopub.status.idle": "2023-01-27T00:14:34.544948Z",
     "shell.execute_reply": "2023-01-27T00:14:34.544338Z",
     "shell.execute_reply.started": "2023-01-27T00:14:34.488733Z"
    },
    "tags": []
   },
   "outputs": [],
   "source": [
    "p_embed = reducer.transform(output)\n",
    "\n",
    "t_embed = reducer.transform(train_x)"
   ]
  },
  {
   "cell_type": "markdown",
   "id": "a5a71b42-2ab9-4d28-a0da-5f3eedde43d8",
   "metadata": {
    "jp-MarkdownHeadingCollapsed": true,
    "tags": []
   },
   "source": [
    "### HDBScan Clusters"
   ]
  },
  {
   "cell_type": "code",
   "execution_count": 102,
   "id": "4ce08a02-38d3-4b18-b358-ba3abd58e020",
   "metadata": {
    "execution": {
     "iopub.execute_input": "2023-01-27T00:14:34.681965Z",
     "iopub.status.busy": "2023-01-27T00:14:34.681244Z",
     "iopub.status.idle": "2023-01-27T00:14:34.685890Z",
     "shell.execute_reply": "2023-01-27T00:14:34.685140Z",
     "shell.execute_reply.started": "2023-01-27T00:14:34.681930Z"
    },
    "tags": []
   },
   "outputs": [],
   "source": [
    "t_ind = np.where(t_labels > 0, True, False)"
   ]
  },
  {
   "cell_type": "code",
   "execution_count": null,
   "id": "2119b760-2e8f-45df-b0b6-073d853965e8",
   "metadata": {},
   "outputs": [],
   "source": [
    "thresh = 0.3\n",
    "\n",
    "hdbscan_t = HDBSCAN(min_samples=10,\n",
    "    min_cluster_size=100,)\n",
    "\n",
    "clusters_t = hdbscan_t.fit_predict(t_embed)\n",
    "\n",
    "clustered = [p > thresh for p in hdbscan_t.probabilities_.to_numpy()]\n",
    "\n",
    "t_dn = t_embed[clustered]\n",
    "t_labels = hdbscan_t.labels_[clustered].to_numpy()\n",
    "\n",
    "plt.scatter(t_dn.to_numpy()[:,0], \n",
    "            t_dn.to_numpy()[:,1],\n",
    "            c=t_labels,\n",
    "            s=0.13,\n",
    "            cmap='Spectral');\n",
    "\n",
    "# Set deleted labels to -1\n",
    "t_proba = hdbscan_t.probabilities_.to_numpy()\n",
    "t_deleted = np.where(t_proba <= thresh, True , False)\n",
    "t_labels_padded = hdbscan_t.labels_.copy()\n",
    "t_labels_padded[t_deleted] = -1"
   ]
  },
  {
   "cell_type": "code",
   "execution_count": null,
   "id": "00502320-f4d0-4eb6-99c7-a2f0c458109c",
   "metadata": {},
   "outputs": [],
   "source": [
    "thresh = 0.0\n",
    "\n",
    "hdbscan = HDBSCAN(min_samples=10,\n",
    "    min_cluster_size=10,)\n",
    "\n",
    "clusters_p = hdbscan.fit_predict(p_embed)\n",
    "\n",
    "clustered = [p > thresh for p in hdbscan.probabilities_.to_numpy()]\n",
    "\n",
    "p_dn = p_embed[clustered]\n",
    "p_labels = hdbscan.labels_[clustered].to_numpy()\n",
    "\n",
    "plt.scatter(p_dn.to_numpy()[:,0], \n",
    "            p_dn.to_numpy()[:,1],\n",
    "            c=p_labels,\n",
    "            s=0.13,\n",
    "            cmap='Spectral');"
   ]
  },
  {
   "cell_type": "markdown",
   "id": "91165b51-0a52-413c-b6c8-b0dcdc69d6aa",
   "metadata": {},
   "source": [
    "### Class Conversion"
   ]
  },
  {
   "cell_type": "code",
   "execution_count": 105,
   "id": "8c661bef-37b2-4ff1-991b-2098b324f1aa",
   "metadata": {
    "execution": {
     "iopub.execute_input": "2023-01-27T00:14:36.248999Z",
     "iopub.status.busy": "2023-01-27T00:14:36.248693Z",
     "iopub.status.idle": "2023-01-27T00:14:36.256898Z",
     "shell.execute_reply": "2023-01-27T00:14:36.256320Z",
     "shell.execute_reply.started": "2023-01-27T00:14:36.248974Z"
    },
    "tags": []
   },
   "outputs": [],
   "source": [
    "# p -> t\n",
    "\n",
    "# est train to est test categories\n",
    "dists = c1toc2(p_dn.to_numpy(),p_labels,t_dn.to_numpy(), t_labels)\n",
    "dists = sorted(dists, key=lambda x: x[0][0])"
   ]
  },
  {
   "cell_type": "code",
   "execution_count": 107,
   "id": "0aa638e6-56a3-4ce0-901b-0560418e811d",
   "metadata": {
    "execution": {
     "iopub.execute_input": "2023-01-27T00:14:36.266344Z",
     "iopub.status.busy": "2023-01-27T00:14:36.266017Z",
     "iopub.status.idle": "2023-01-27T00:14:36.323344Z",
     "shell.execute_reply": "2023-01-27T00:14:36.322720Z",
     "shell.execute_reply.started": "2023-01-27T00:14:36.266314Z"
    },
    "tags": []
   },
   "outputs": [],
   "source": [
    "p_to_t_map = catgy_cluster_map(p_dn.to_numpy(),p_labels,t_dn.to_numpy(), t_labels)\n",
    "\n",
    "t_to_orig_map = get_cluster_mapping_to_orig(adata, classdict, train_ind, t_labels_padded.to_pandas())"
   ]
  },
  {
   "cell_type": "code",
   "execution_count": 108,
   "id": "cdff3ab8-4a66-484c-82a2-f2b18a01e1fa",
   "metadata": {
    "execution": {
     "iopub.execute_input": "2023-01-27T00:14:36.324533Z",
     "iopub.status.busy": "2023-01-27T00:14:36.324227Z",
     "iopub.status.idle": "2023-01-27T00:14:36.329686Z",
     "shell.execute_reply": "2023-01-27T00:14:36.328925Z",
     "shell.execute_reply.started": "2023-01-27T00:14:36.324511Z"
    },
    "tags": []
   },
   "outputs": [
    {
     "data": {
      "text/plain": [
       "{0: 3, 1: 2, 2: 4, 3: 0, 4: 1}"
      ]
     },
     "execution_count": 108,
     "metadata": {},
     "output_type": "execute_result"
    }
   ],
   "source": [
    "p_to_t_map"
   ]
  },
  {
   "cell_type": "code",
   "execution_count": 109,
   "id": "3986a46c-a91d-4774-81ac-b1ca0e67a21a",
   "metadata": {
    "execution": {
     "iopub.execute_input": "2023-01-27T00:14:36.330835Z",
     "iopub.status.busy": "2023-01-27T00:14:36.330557Z",
     "iopub.status.idle": "2023-01-27T00:14:36.335729Z",
     "shell.execute_reply": "2023-01-27T00:14:36.335030Z",
     "shell.execute_reply.started": "2023-01-27T00:14:36.330815Z"
    },
    "tags": []
   },
   "outputs": [
    {
     "data": {
      "text/plain": [
       "{4: 1, 2: 3, 1: 0, 3: 2, 0: 4}"
      ]
     },
     "execution_count": 109,
     "metadata": {},
     "output_type": "execute_result"
    }
   ],
   "source": [
    "t_to_orig_map"
   ]
  },
  {
   "cell_type": "code",
   "execution_count": 91,
   "id": "373e0f86-dd74-4f31-af25-ebc139bae24f",
   "metadata": {
    "execution": {
     "iopub.execute_input": "2023-01-27T00:09:09.400988Z",
     "iopub.status.busy": "2023-01-27T00:09:09.400581Z",
     "iopub.status.idle": "2023-01-27T00:09:09.404855Z",
     "shell.execute_reply": "2023-01-27T00:09:09.403998Z",
     "shell.execute_reply.started": "2023-01-27T00:09:09.400964Z"
    }
   },
   "outputs": [],
   "source": [
    "p_to_orig_map = {}\n",
    "\n",
    "for k in p_to_t_map:\n",
    "    p_to_orig_map[k] = t_to_orig_map[p_to_t_map[k]]"
   ]
  },
  {
   "cell_type": "code",
   "execution_count": 110,
   "id": "c1f8bb2e-51b5-4e60-bc8c-32570b27ba88",
   "metadata": {
    "execution": {
     "iopub.execute_input": "2023-01-27T00:14:45.176674Z",
     "iopub.status.busy": "2023-01-27T00:14:45.176248Z",
     "iopub.status.idle": "2023-01-27T00:14:45.182477Z",
     "shell.execute_reply": "2023-01-27T00:14:45.181782Z",
     "shell.execute_reply.started": "2023-01-27T00:14:45.176647Z"
    },
    "tags": []
   },
   "outputs": [],
   "source": [
    "data_subset = pd.Series(p_labels)\n",
    "mapping = p_to_orig_map\n",
    "\n",
    "# The target range is 0 to 4\n",
    "counts = np.zeros(5)\n",
    "categories = data_subset.unique()\n",
    "for i,cat in enumerate(categories):\n",
    "    counts[mapping[cat]] += (data_subset == cat).sum()\n",
    "n = len(data_subset)\n",
    "\n",
    "proportions = counts / n"
   ]
  },
  {
   "cell_type": "markdown",
   "id": "aa3cc1ec-d4a1-484d-8c28-39a60f7cf54d",
   "metadata": {},
   "source": [
    "# Putting it All Together"
   ]
  },
  {
   "cell_type": "code",
   "execution_count": 19,
   "id": "e8a4de93-dc07-44eb-b7fb-ddfd0a06bb52",
   "metadata": {
    "execution": {
     "iopub.execute_input": "2023-01-27T15:16:08.383628Z",
     "iopub.status.busy": "2023-01-27T15:16:08.383233Z",
     "iopub.status.idle": "2023-01-27T15:16:08.387777Z",
     "shell.execute_reply": "2023-01-27T15:16:08.386914Z",
     "shell.execute_reply.started": "2023-01-27T15:16:08.383601Z"
    },
    "tags": []
   },
   "outputs": [],
   "source": [
    "from cuml import UMAP, PCA, HDBSCAN, KMeans, DBSCAN\n",
    "import torch\n",
    "import cupy as cp\n",
    "from sklearn.model_selection import train_test_split\n",
    "from scipy.stats import mode as scimode"
   ]
  },
  {
   "cell_type": "code",
   "execution_count": 115,
   "id": "6dc8b61f-32bf-421e-9a2c-a2a7b68044ad",
   "metadata": {
    "execution": {
     "iopub.execute_input": "2023-01-27T16:14:31.446468Z",
     "iopub.status.busy": "2023-01-27T16:14:31.446075Z",
     "iopub.status.idle": "2023-01-27T16:14:31.470682Z",
     "shell.execute_reply": "2023-01-27T16:14:31.469854Z",
     "shell.execute_reply.started": "2023-01-27T16:14:31.446444Z"
    },
    "tags": []
   },
   "outputs": [],
   "source": [
    "def generate_proportions(adata, genes, pca_comps=100, ko_delta=100, plot=False, verbose=True):\n",
    "    \n",
    "    # Setup basic variables\n",
    "    ordering = ['progenitor','effector','terminal exhausted','cycling','other']\n",
    "    classes = [0,1,2,3,4]\n",
    "    classdict = {s:c for (s,c) in zip(ordering, classes)}\n",
    "    \n",
    "    # Arrays for accessing categories\n",
    "    genecolors = [colordict[s] for s in adata.obs['state']]\n",
    "    classes = [classdict[s] for s in adata.obs['state']]\n",
    "    \n",
    "    if verbose:\n",
    "        print(\"Loading adata into cudf...\")\n",
    "    # Cuda for speedup\n",
    "    cudata = cudf.DataFrame(adata.to_df())\n",
    "    \n",
    "    # PCA fit all cuda data\n",
    "    # print(\"Fitting PCA...\")\n",
    "    # pca_train = PCA(n_components = pca_comps)\n",
    "    # pca_train.fit(cudata)\n",
    "    # print(\"Done!\")\n",
    "    \n",
    "    if verbose:\n",
    "        print(\"Performing training setup for gene knockout simulations...\")\n",
    "    # Copy all unperturbed cells out of adata\n",
    "    unpert_ind = adata.obs['condition'] == 'Unperturbed'\n",
    "    adata_unpert = adata[unpert_ind]\n",
    "    \n",
    "    train_ind = [x != 'Unperturbed' for x in adata.obs['condition']]\n",
    "    \n",
    "    # PCA fit only train data\n",
    "    if verbose:\n",
    "        print(\"Fitting PCA on train data...\")\n",
    "    pca_train = PCA(n_components = pca_comps)\n",
    "    pca_train.fit(cudata[train_ind])\n",
    "    if verbose:\n",
    "        print(\"Done!\")\n",
    "    \n",
    "    # Project train data into lower dimension\n",
    "    train_x = pca_train.transform(cudata[train_ind])\n",
    "\n",
    "    # Known labels for train data\n",
    "    train_y = cudf.DataFrame([classdict[s] for s in adata.obs['state'][train_ind]])\n",
    "\n",
    "    reducer = UMAP(n_neighbors=30, min_dist=0.1)\n",
    "    reducer.fit(train_x,train_y)\n",
    "    \n",
    "    # Train embeddings\n",
    "    t_embed = reducer.transform(train_x)\n",
    "    \n",
    "    # Cluster on Train\n",
    "    thresh = 0.3\n",
    "\n",
    "    hdbscan_t = HDBSCAN(min_samples=10,\n",
    "        min_cluster_size=100,)\n",
    "\n",
    "    clusters_t = hdbscan_t.fit_predict(t_embed)\n",
    "\n",
    "    clustered = [p > thresh for p in hdbscan_t.probabilities_.to_numpy()]\n",
    "\n",
    "    t_dn = t_embed[clustered]\n",
    "    t_labels = hdbscan_t.labels_[clustered].to_numpy()\n",
    "    \n",
    "    # Set deleted labels to -1\n",
    "    t_proba = hdbscan_t.probabilities_.to_numpy()\n",
    "    t_deleted = np.where(t_proba <= thresh, True , False)\n",
    "    t_labels_padded = hdbscan_t.labels_.copy()\n",
    "    t_labels_padded[t_deleted] = -1\n",
    "\n",
    "    if plot:\n",
    "        plt.scatter(t_dn.to_numpy()[:,0], \n",
    "                    t_dn.to_numpy()[:,1],\n",
    "                    c=t_labels,\n",
    "                    s=0.13,\n",
    "                    cmap='Spectral')\n",
    "        plt.title(\"Umap train embeddings\")\n",
    "        plt.savefig(\"Umap-train.png\")\n",
    "        plt.pause(0.05)\n",
    "    \n",
    "    proportions_dict = {}\n",
    "    if verbose:\n",
    "        print(\"Starting gene knockout simulations...\")\n",
    "    # Remove genes\n",
    "    for gene_removed in genes:\n",
    "        if verbose:\n",
    "            print(\"Performing knockout on \"+gene_removed+\"...\")\n",
    "        # Get index of the gene and zero it out of our adata copy\n",
    "        ind = (adata.var_names == gene_removed).nonzero()[0]\n",
    "\n",
    "        adata_pert_copy = adata_unpert.to_df().to_numpy(copy=True)\n",
    "        adata_pert_copy[:,ind] -= ko_delta\n",
    "        \n",
    "        # Convert to cudf and embed it in pca dims\n",
    "        pert_cudata = cudf.DataFrame(adata_pert_copy)\n",
    "        output = pca_train.transform(pert_cudata)\n",
    "        \n",
    "        # perturbed embeddings\n",
    "        p_embed = reducer.transform(output)\n",
    "        \n",
    "        # Cluster on Perturbed\n",
    "        thresh = 0.0\n",
    "\n",
    "        hdbscan_p = HDBSCAN(min_samples=10,\n",
    "            min_cluster_size=10,)\n",
    "\n",
    "        clusters_p = hdbscan_p.fit_predict(p_embed)\n",
    "\n",
    "        clustered = [p > thresh for p in hdbscan_p.probabilities_.to_numpy()]\n",
    "\n",
    "        p_dn = p_embed[clustered]\n",
    "        p_labels = hdbscan_p.labels_[clustered].to_numpy()\n",
    "        \n",
    "        if plot:\n",
    "            plt.scatter(p_dn.to_numpy()[:,0], \n",
    "                        p_dn.to_numpy()[:,1],\n",
    "                        c=p_labels,\n",
    "                        s=0.13,\n",
    "                        cmap='Spectral');\n",
    "            plt.title(\"Umap \"+str(ko_delta)+\"-perturbed \"+gene_removed+\" embeddings\")\n",
    "            plt.savefig(gene_removed+\"-\"+str(ko_delta)+\"-delta.png\")\n",
    "            plt.pause(0.05)\n",
    "        \n",
    "        # Convert cluster categories back to original categories\n",
    "        p_to_t_map = catgy_cluster_map(p_dn.to_numpy(),p_labels,t_dn.to_numpy(), t_labels)\n",
    "        t_to_orig_map = get_cluster_mapping_to_orig(adata, classdict, train_ind, t_labels_padded.to_pandas())\n",
    "        \n",
    "        # Compose above maps\n",
    "        p_to_orig_map = {}\n",
    "        for k in p_to_t_map:\n",
    "            p_to_orig_map[k] = t_to_orig_map[p_to_t_map[k]]\n",
    "        \n",
    "        data_subset = pd.Series(p_labels)\n",
    "        mapping = p_to_orig_map\n",
    "\n",
    "        # The target range is 0 to 4, as in the given categories\n",
    "        counts = np.zeros(5)\n",
    "        categories = data_subset.unique()\n",
    "        for i,cat in enumerate(categories):\n",
    "            counts[mapping[cat]] += (data_subset == cat).sum()\n",
    "        n = len(data_subset)\n",
    "        proportions = counts / n\n",
    "        \n",
    "        proportions_dict[gene_removed] = proportions\n",
    "    if verbose:\n",
    "        print(\"Done!\")\n",
    "    return proportions_dict"
   ]
  },
  {
   "cell_type": "code",
   "execution_count": 116,
   "id": "5d2ec87e-253b-4a2b-b1a4-f1e8268c403e",
   "metadata": {
    "execution": {
     "iopub.execute_input": "2023-01-27T16:14:34.573440Z",
     "iopub.status.busy": "2023-01-27T16:14:34.573018Z",
     "iopub.status.idle": "2023-01-27T16:14:34.577099Z",
     "shell.execute_reply": "2023-01-27T16:14:34.576386Z",
     "shell.execute_reply.started": "2023-01-27T16:14:34.573415Z"
    },
    "tags": []
   },
   "outputs": [],
   "source": [
    "valid_genes = [ 'Aqr', 'Bach2', 'Bhlhe40']\n",
    "test_genes = [ 'Ets1', 'Fosb', 'Mafk', 'Stat3']"
   ]
  },
  {
   "cell_type": "code",
   "execution_count": 117,
   "id": "2e7128f8-3be1-4e2c-8dd1-6a3112451c69",
   "metadata": {
    "execution": {
     "iopub.execute_input": "2023-01-27T16:14:34.823017Z",
     "iopub.status.busy": "2023-01-27T16:14:34.822619Z",
     "iopub.status.idle": "2023-01-27T16:14:34.827299Z",
     "shell.execute_reply": "2023-01-27T16:14:34.826418Z",
     "shell.execute_reply.started": "2023-01-27T16:14:34.822993Z"
    },
    "tags": []
   },
   "outputs": [],
   "source": [
    "ko_deltas = [1,10,20,30,40,50,60,70,80,90,100,110,120,130,140,150,160,170,180,190,200]"
   ]
  },
  {
   "cell_type": "code",
   "execution_count": null,
   "id": "6f04ee5d-2e2e-4e01-9196-e0fddb7027a2",
   "metadata": {},
   "outputs": [],
   "source": [
    "ko_deltas_results = {}\n",
    "for kod in tqdm(ko_deltas):\n",
    "    while True:\n",
    "        try:\n",
    "            ko_deltas_results[kod] = generate_proportions(adata=adata, genes=valid_genes + test_genes, ko_delta=kod, plot=True)\n",
    "        except AssertionError:\n",
    "            print(\"Train clustering failed, retrying...\")"
   ]
  }
 ],
 "metadata": {
  "kernelspec": {
   "display_name": "saturn (Python 3)",
   "language": "python",
   "name": "python3"
  },
  "language_info": {
   "codemirror_mode": {
    "name": "ipython",
    "version": 3
   },
   "file_extension": ".py",
   "mimetype": "text/x-python",
   "name": "python",
   "nbconvert_exporter": "python",
   "pygments_lexer": "ipython3",
   "version": "3.9.15"
  }
 },
 "nbformat": 4,
 "nbformat_minor": 5
}
