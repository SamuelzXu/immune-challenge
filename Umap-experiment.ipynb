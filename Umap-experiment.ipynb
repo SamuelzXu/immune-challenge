{
 "cells": [
  {
   "cell_type": "code",
   "execution_count": 1,
   "id": "b091ff1e-5345-4e96-a7dd-fc6a76ddce5d",
   "metadata": {
    "execution": {
     "iopub.execute_input": "2023-01-26T23:08:31.450825Z",
     "iopub.status.busy": "2023-01-26T23:08:31.450562Z",
     "iopub.status.idle": "2023-01-26T23:09:41.470657Z",
     "shell.execute_reply": "2023-01-26T23:09:41.469886Z",
     "shell.execute_reply.started": "2023-01-26T23:08:31.450803Z"
    },
    "tags": []
   },
   "outputs": [
    {
     "name": "stdout",
     "output_type": "stream",
     "text": [
      "  \u001b[1;31merror\u001b[0m: \u001b[1msubprocess-exited-with-error\u001b[0m\n",
      "  \n",
      "  \u001b[31m×\u001b[0m \u001b[32mpython setup.py bdist_wheel\u001b[0m did not run successfully.\n",
      "  \u001b[31m│\u001b[0m exit code: \u001b[1;36m1\u001b[0m\n",
      "  \u001b[31m╰─>\u001b[0m \u001b[31m[19 lines of output]\u001b[0m\n",
      "  \u001b[31m   \u001b[0m running bdist_wheel\n",
      "  \u001b[31m   \u001b[0m Traceback (most recent call last):\n",
      "  \u001b[31m   \u001b[0m   File \"<string>\", line 2, in <module>\n",
      "  \u001b[31m   \u001b[0m   File \"<pip-setuptools-caller>\", line 34, in <module>\n",
      "  \u001b[31m   \u001b[0m   File \"/tmp/pip-install-qf78ov_b/sklearn_4b59992673164332b19bd7ee80142307/setup.py\", line 121, in <module>\n",
      "  \u001b[31m   \u001b[0m     setuptools.setup(\n",
      "  \u001b[31m   \u001b[0m   File \"/opt/saturncloud/envs/saturn/lib/python3.9/site-packages/setuptools/__init__.py\", line 155, in setup\n",
      "  \u001b[31m   \u001b[0m     return distutils.core.setup(**attrs)\n",
      "  \u001b[31m   \u001b[0m   File \"/opt/saturncloud/envs/saturn/lib/python3.9/site-packages/setuptools/_distutils/core.py\", line 148, in setup\n",
      "  \u001b[31m   \u001b[0m     return run_commands(dist)\n",
      "  \u001b[31m   \u001b[0m   File \"/opt/saturncloud/envs/saturn/lib/python3.9/site-packages/setuptools/_distutils/core.py\", line 163, in run_commands\n",
      "  \u001b[31m   \u001b[0m     dist.run_commands()\n",
      "  \u001b[31m   \u001b[0m   File \"/opt/saturncloud/envs/saturn/lib/python3.9/site-packages/setuptools/_distutils/dist.py\", line 967, in run_commands\n",
      "  \u001b[31m   \u001b[0m     self.run_command(cmd)\n",
      "  \u001b[31m   \u001b[0m   File \"/opt/saturncloud/envs/saturn/lib/python3.9/site-packages/setuptools/_distutils/dist.py\", line 986, in run_command\n",
      "  \u001b[31m   \u001b[0m     cmd_obj.run()\n",
      "  \u001b[31m   \u001b[0m   File \"/tmp/pip-install-qf78ov_b/sklearn_4b59992673164332b19bd7ee80142307/setup.py\", line 20, in run\n",
      "  \u001b[31m   \u001b[0m     raise setuptools.errors.ClassError(message)\n",
      "  \u001b[31m   \u001b[0m AttributeError: module 'setuptools' has no attribute 'errors'\n",
      "  \u001b[31m   \u001b[0m \u001b[31m[end of output]\u001b[0m\n",
      "  \n",
      "  \u001b[1;35mnote\u001b[0m: This error originates from a subprocess, and is likely not a problem with pip.\n",
      "\u001b[31m  ERROR: Failed building wheel for sklearn\u001b[0m\u001b[31m\n",
      "\u001b[0m\u001b[33m  DEPRECATION: sklearn was installed using the legacy 'setup.py install' method, because a wheel could not be built for it. pip 23.1 will enforce this behaviour change. A possible replacement is to fix the wheel build issue reported above. Discussion can be found at https://github.com/pypa/pip/issues/8368\u001b[0m\u001b[33m\n",
      "\u001b[0m"
     ]
    }
   ],
   "source": [
    "!pip install -r requirements.txt --quiet"
   ]
  },
  {
   "cell_type": "code",
   "execution_count": 2,
   "id": "5ae53977-31dd-4a84-b037-1f03ce616c83",
   "metadata": {
    "execution": {
     "iopub.execute_input": "2023-01-26T23:09:41.472519Z",
     "iopub.status.busy": "2023-01-26T23:09:41.472151Z",
     "iopub.status.idle": "2023-01-26T23:09:57.185706Z",
     "shell.execute_reply": "2023-01-26T23:09:57.185050Z",
     "shell.execute_reply.started": "2023-01-26T23:09:41.472473Z"
    },
    "tags": []
   },
   "outputs": [
    {
     "name": "stderr",
     "output_type": "stream",
     "text": [
      "/opt/saturncloud/envs/saturn/lib/python3.9/site-packages/cupy/_environment.py:437: UserWarning: \n",
      "--------------------------------------------------------------------------------\n",
      "\n",
      "  CuPy may not function correctly because multiple CuPy packages are installed\n",
      "  in your environment:\n",
      "\n",
      "    cupy, cupy-cuda115\n",
      "\n",
      "  Follow these steps to resolve this issue:\n",
      "\n",
      "    1. For all packages listed above, run the following command to remove all\n",
      "       existing CuPy installations:\n",
      "\n",
      "         $ pip uninstall <package_name>\n",
      "\n",
      "      If you previously installed CuPy via conda, also run the following:\n",
      "\n",
      "         $ conda uninstall cupy\n",
      "\n",
      "    2. Install the appropriate CuPy package.\n",
      "       Refer to the Installation Guide for detailed instructions.\n",
      "\n",
      "         https://docs.cupy.dev/en/stable/install.html\n",
      "\n",
      "--------------------------------------------------------------------------------\n",
      "\n",
      "  warnings.warn(f'''\n"
     ]
    },
    {
     "name": "stdout",
     "output_type": "stream",
     "text": [
      "scanpy==1.9.1 anndata==0.8.0 umap==0.5.3 numpy==1.23.5 scipy==1.10.0 pandas==1.4.4 scikit-learn==1.2.0 statsmodels==0.13.5 pynndescent==0.5.8\n"
     ]
    }
   ],
   "source": [
    "import cudf\n",
    "import cuml\n",
    "import numpy as np\n",
    "import scanpy as sc\n",
    "import muon as mu\n",
    "import pandas as pd\n",
    "import gc\n",
    "from numba import cuda\n",
    "import matplotlib.pyplot as plt\n",
    "\n",
    "from warnings import filterwarnings\n",
    "filterwarnings('ignore')\n",
    "\n",
    "sc.settings.verbosity = 3\n",
    "sc.logging.print_header()\n",
    "sc.settings.set_figure_params(dpi=80, facecolor='white')"
   ]
  },
  {
   "cell_type": "code",
   "execution_count": 3,
   "id": "76c86672-a769-4221-9f69-9d3573a96296",
   "metadata": {
    "execution": {
     "iopub.execute_input": "2023-01-26T23:09:57.187114Z",
     "iopub.status.busy": "2023-01-26T23:09:57.186612Z",
     "iopub.status.idle": "2023-01-26T23:10:05.868244Z",
     "shell.execute_reply": "2023-01-26T23:10:05.867544Z",
     "shell.execute_reply.started": "2023-01-26T23:09:57.187088Z"
    },
    "tags": []
   },
   "outputs": [
    {
     "data": {
      "text/plain": [
       "AnnData object with n_obs × n_vars = 28697 × 15077\n",
       "    obs: 'gRNA_maxID', 'state', 'condition', 'lane'\n",
       "    layers: 'rawcounts'"
      ]
     },
     "execution_count": 3,
     "metadata": {},
     "output_type": "execute_result"
    }
   ],
   "source": [
    "adata = sc.read_h5ad('./sc_training.h5ad')\n",
    "adata"
   ]
  },
  {
   "cell_type": "code",
   "execution_count": 4,
   "id": "7ed87a7d-2f73-48f2-95a4-e142691fd63b",
   "metadata": {
    "execution": {
     "iopub.execute_input": "2023-01-26T23:12:00.509064Z",
     "iopub.status.busy": "2023-01-26T23:12:00.508655Z",
     "iopub.status.idle": "2023-01-26T23:12:00.512651Z",
     "shell.execute_reply": "2023-01-26T23:12:00.511956Z",
     "shell.execute_reply.started": "2023-01-26T23:12:00.509039Z"
    }
   },
   "outputs": [],
   "source": [
    "valid_genes = [ 'Aqr', 'Bach2', 'Bhlhe40']\n",
    "test_genes = [ 'Ets1', 'Fosb', 'Mafk', 'Stat3']"
   ]
  },
  {
   "cell_type": "code",
   "execution_count": 5,
   "id": "f6f44443-09d1-48fe-8c19-ae3521ef2f99",
   "metadata": {
    "execution": {
     "iopub.execute_input": "2023-01-26T23:12:13.258486Z",
     "iopub.status.busy": "2023-01-26T23:12:13.258092Z",
     "iopub.status.idle": "2023-01-26T23:12:13.263448Z",
     "shell.execute_reply": "2023-01-26T23:12:13.262648Z",
     "shell.execute_reply.started": "2023-01-26T23:12:13.258461Z"
    },
    "tags": []
   },
   "outputs": [],
   "source": [
    "def proportions(data, ko_gene, return_n = False):\n",
    "    ordering = ['progenitor','effector','terminal exhausted','cycling','other']\n",
    "    counts = np.zeros(5)\n",
    "    data_subset = data[data['condition'] == ko_gene]\n",
    "    for i,state in enumerate(ordering):\n",
    "        counts[i] = (data_subset['state'] == state).sum()\n",
    "    n = len(data_subset)\n",
    "    if return_n:\n",
    "        return counts / n, n\n",
    "    else:\n",
    "        return counts / n\n",
    "    "
   ]
  },
  {
   "cell_type": "code",
   "execution_count": 5,
   "id": "bc223396-930f-409e-819e-b26eba6d791c",
   "metadata": {
    "execution": {
     "iopub.execute_input": "2023-01-26T21:28:51.068149Z",
     "iopub.status.busy": "2023-01-26T21:28:51.067768Z",
     "iopub.status.idle": "2023-01-26T21:28:51.071813Z",
     "shell.execute_reply": "2023-01-26T21:28:51.071054Z",
     "shell.execute_reply.started": "2023-01-26T21:28:51.068125Z"
    },
    "tags": []
   },
   "outputs": [],
   "source": [
    "all_props = np.zeros((67,5))"
   ]
  },
  {
   "cell_type": "code",
   "execution_count": 6,
   "id": "a11dc166-d510-4498-a6f4-4d8e4a83e0b9",
   "metadata": {
    "execution": {
     "iopub.execute_input": "2023-01-26T21:28:51.343567Z",
     "iopub.status.busy": "2023-01-26T21:28:51.343147Z",
     "iopub.status.idle": "2023-01-26T21:28:51.427972Z",
     "shell.execute_reply": "2023-01-26T21:28:51.427364Z",
     "shell.execute_reply.started": "2023-01-26T21:28:51.343537Z"
    },
    "tags": []
   },
   "outputs": [],
   "source": [
    "genes = adata.obs['condition'].unique().tolist()\n",
    "for i,g in enumerate(genes):\n",
    "    all_props[i] = proportions(adata.obs,g)"
   ]
  },
  {
   "cell_type": "code",
   "execution_count": 7,
   "id": "c9a7ebc9-7edb-4def-be4f-715ef3e10060",
   "metadata": {
    "execution": {
     "iopub.execute_input": "2023-01-26T21:28:51.791428Z",
     "iopub.status.busy": "2023-01-26T21:28:51.791038Z",
     "iopub.status.idle": "2023-01-26T21:28:51.795444Z",
     "shell.execute_reply": "2023-01-26T21:28:51.794668Z",
     "shell.execute_reply.started": "2023-01-26T21:28:51.791404Z"
    },
    "tags": []
   },
   "outputs": [],
   "source": [
    "df = pd.DataFrame(data=all_props, index=genes)"
   ]
  },
  {
   "cell_type": "markdown",
   "id": "34e73297-6191-4b5a-89d0-89481dcaa866",
   "metadata": {},
   "source": [
    "# UMAP Setup"
   ]
  },
  {
   "cell_type": "code",
   "execution_count": 6,
   "id": "bad56e47-b21a-4c13-ab18-2e53b988aff6",
   "metadata": {
    "execution": {
     "iopub.execute_input": "2023-01-26T23:12:16.684450Z",
     "iopub.status.busy": "2023-01-26T23:12:16.684058Z",
     "iopub.status.idle": "2023-01-26T23:12:17.736636Z",
     "shell.execute_reply": "2023-01-26T23:12:17.735787Z",
     "shell.execute_reply.started": "2023-01-26T23:12:16.684423Z"
    },
    "tags": []
   },
   "outputs": [],
   "source": [
    "from cuml import UMAP, PCA, HDBSCAN, KMeans, DBSCAN\n",
    "import torch\n",
    "import cupy as cp\n",
    "from sklearn.model_selection import train_test_split\n",
    "from scipy.stats import mode as scimode"
   ]
  },
  {
   "cell_type": "code",
   "execution_count": 7,
   "id": "50209ddc-4765-4492-9ceb-de8f8de6b955",
   "metadata": {
    "execution": {
     "iopub.execute_input": "2023-01-26T23:12:19.976467Z",
     "iopub.status.busy": "2023-01-26T23:12:19.976072Z",
     "iopub.status.idle": "2023-01-26T23:12:46.415952Z",
     "shell.execute_reply": "2023-01-26T23:12:46.415285Z",
     "shell.execute_reply.started": "2023-01-26T23:12:19.976441Z"
    },
    "tags": []
   },
   "outputs": [],
   "source": [
    "cudata = cudf.DataFrame(adata.to_df())"
   ]
  },
  {
   "cell_type": "code",
   "execution_count": 8,
   "id": "c35753de-06d6-4a06-acb0-07cf449e6792",
   "metadata": {
    "execution": {
     "iopub.execute_input": "2023-01-26T23:12:46.418295Z",
     "iopub.status.busy": "2023-01-26T23:12:46.417717Z",
     "iopub.status.idle": "2023-01-26T23:12:46.430567Z",
     "shell.execute_reply": "2023-01-26T23:12:46.429839Z",
     "shell.execute_reply.started": "2023-01-26T23:12:46.418260Z"
    },
    "tags": []
   },
   "outputs": [],
   "source": [
    "colors = ['blue','red','green','yellow','pink']\n",
    "ordering = ['progenitor','effector','terminal exhausted','cycling','other']\n",
    "classes = [0,1,2,3,4]\n",
    "\n",
    "colordict = {s:c for (s,c) in zip(ordering, colors)}\n",
    "classdict = {s:c for (s,c) in zip(ordering, classes)}\n",
    "\n",
    "genecolors = [colordict[s] for s in adata.obs['state']]\n",
    "classes = [classdict[s] for s in adata.obs['state']]"
   ]
  },
  {
   "cell_type": "markdown",
   "id": "d772530d-dbae-4e2b-be4a-d6e6c959f2ab",
   "metadata": {
    "tags": []
   },
   "source": [
    "### Helper Functions"
   ]
  },
  {
   "cell_type": "code",
   "execution_count": 17,
   "id": "aa5e8a1a-0733-443c-9b9a-312128f33fc9",
   "metadata": {
    "execution": {
     "iopub.execute_input": "2023-01-26T23:15:23.635112Z",
     "iopub.status.busy": "2023-01-26T23:15:23.634712Z",
     "iopub.status.idle": "2023-01-26T23:15:23.640173Z",
     "shell.execute_reply": "2023-01-26T23:15:23.639532Z",
     "shell.execute_reply.started": "2023-01-26T23:15:23.635087Z"
    },
    "tags": []
   },
   "outputs": [],
   "source": [
    "def catgy_cluster_map(from_coords, from_cat, to_coords, to_cat):\n",
    "    # So that we can define a mapping\n",
    "    assert(len(np.unique(from_cat)) >= len(np.unique(to_cat)))\n",
    "    \n",
    "    dists = c1toc2(from_coords, from_cat, to_coords, to_cat)\n",
    "    dists = sorted(dists, key=lambda x: x[0][0])\n",
    "    \n",
    "    mapper = {c1:c2 for (c1,c2),d in dists}\n",
    "    return mapper"
   ]
  },
  {
   "cell_type": "code",
   "execution_count": 18,
   "id": "86e141d3-e393-4398-ab2b-d9a6eedfc541",
   "metadata": {
    "execution": {
     "iopub.execute_input": "2023-01-26T23:15:23.905576Z",
     "iopub.status.busy": "2023-01-26T23:15:23.905202Z",
     "iopub.status.idle": "2023-01-26T23:15:23.909323Z",
     "shell.execute_reply": "2023-01-26T23:15:23.908401Z",
     "shell.execute_reply.started": "2023-01-26T23:15:23.905554Z"
    },
    "tags": []
   },
   "outputs": [],
   "source": [
    "def get_centroid(posns):\n",
    "    return np.sum(posns, axis=0)/len(posns)"
   ]
  },
  {
   "cell_type": "code",
   "execution_count": 19,
   "id": "932dea8f-0a68-41fb-ad0c-0ae00bdd1c8a",
   "metadata": {
    "execution": {
     "iopub.execute_input": "2023-01-26T23:15:24.262426Z",
     "iopub.status.busy": "2023-01-26T23:15:24.261998Z",
     "iopub.status.idle": "2023-01-26T23:15:24.268508Z",
     "shell.execute_reply": "2023-01-26T23:15:24.267753Z",
     "shell.execute_reply.started": "2023-01-26T23:15:24.262401Z"
    },
    "tags": []
   },
   "outputs": [],
   "source": [
    "def c1toc2(coords1, clust1, coords2, clust2):\n",
    "    \"\"\"\n",
    "    coords1: nx2-dim numpy array of coordinates in embedded cluster\n",
    "    clust1: n-dim numpy array of clusters\n",
    "    \n",
    "    coords2: mx2-dim numpy array of coordinates in embedded cluster\n",
    "    clust2: m-dim numpy array of clusters\n",
    "    \"\"\"\n",
    "    cents1 = {}\n",
    "    for c in np.unique(clust1):\n",
    "        c_coords = coords1[clust1 == c]\n",
    "        cents1[c] = get_centroid(c_coords)\n",
    "        \n",
    "    cents2 = {}\n",
    "    for c in np.unique(clust2):\n",
    "        c_coords = coords2[clust2 == c]\n",
    "        cents2[c] = get_centroid(c_coords)\n",
    "    pairs = []\n",
    "    for c1 in cents1:\n",
    "        mindist = 10000\n",
    "        pair = (0,0)\n",
    "        for c2 in cents2:\n",
    "            dist = np.sum(np.square(cents1[c1] - cents2[c2]))\n",
    "            if dist < mindist:\n",
    "                mindist = dist\n",
    "                pair = (c1,c2)\n",
    "        pairs.append((pair,mindist))\n",
    "    return pairs"
   ]
  },
  {
   "cell_type": "code",
   "execution_count": 20,
   "id": "5f79a535-623a-46e4-a6e5-2f360e9c0b6e",
   "metadata": {
    "execution": {
     "iopub.execute_input": "2023-01-26T23:15:25.239588Z",
     "iopub.status.busy": "2023-01-26T23:15:25.239183Z",
     "iopub.status.idle": "2023-01-26T23:15:25.243847Z",
     "shell.execute_reply": "2023-01-26T23:15:25.243134Z",
     "shell.execute_reply.started": "2023-01-26T23:15:25.239564Z"
    },
    "tags": []
   },
   "outputs": [],
   "source": [
    "from scipy.stats import mode\n",
    "\n",
    "def cluster_match(adata, classdict, cluster_filter):\n",
    "    '''\n",
    "    cluster_filter: array of true/false that indicates which rows of adata we are concerned with\n",
    "    \n",
    "    returns: adata class given by classdict mapping\n",
    "    '''\n",
    "    cluster_data = [classdict[c] for c in adata.obs['state'][cluster_filter]]\n",
    "    cluster_mode = mode(cluster_data).mode[0]\n",
    "    return cluster_mode"
   ]
  },
  {
   "cell_type": "code",
   "execution_count": 65,
   "id": "aa7a1006-ed9d-4e7f-93e0-2b30c3775d9e",
   "metadata": {
    "execution": {
     "iopub.execute_input": "2023-01-26T23:41:34.691318Z",
     "iopub.status.busy": "2023-01-26T23:41:34.690906Z",
     "iopub.status.idle": "2023-01-26T23:41:34.697867Z",
     "shell.execute_reply": "2023-01-26T23:41:34.697049Z",
     "shell.execute_reply.started": "2023-01-26T23:41:34.691290Z"
    },
    "tags": []
   },
   "outputs": [],
   "source": [
    "# from scipy.stats import mode\n",
    "\n",
    "# def cluster_mapper_same_space(coords1, clust1, coords2, clust2):\n",
    "#     cents1 = {}\n",
    "#     for c in np.unique(clust1):\n",
    "#         c_coords = coords1[clust1 == c]\n",
    "#         cents1[c] = get_centroid(c_coords)\n",
    "        \n",
    "#     pairs = []\n",
    "#     sample_len = 5\n",
    "#     for c1 in cents1:\n",
    "#         distpairs = np.sum(np.square(coords2 - c1), axis=1)\n",
    "#         pairsorted = np.sort(distpairs)\n",
    "        \n",
    "#         # assert len(pairsorted) >= sample_len\n",
    "#         # distmax = np.max(pairsorted[:sample_len])\n",
    "#         # distmean = np.sum(pairsorted[:sample_len])/sample_len\n",
    "#         # clust_cats = clust2[np.where(distpairs <= m, True, False)]\n",
    "#         # print('here')\n",
    "#         # print(clust_cats)\n",
    "#         # clustmode = mode(clust_cats).mode[0]\n",
    "#         # pairs.append([(c1,clustmode),distmean])\n",
    "#     print(len(pairs))\n",
    "#     return pairs"
   ]
  },
  {
   "cell_type": "code",
   "execution_count": 22,
   "id": "76760b57-7518-434b-a9d6-8bffdc49787e",
   "metadata": {
    "execution": {
     "iopub.execute_input": "2023-01-26T23:15:26.485543Z",
     "iopub.status.busy": "2023-01-26T23:15:26.485176Z",
     "iopub.status.idle": "2023-01-26T23:15:26.489232Z",
     "shell.execute_reply": "2023-01-26T23:15:26.488461Z",
     "shell.execute_reply.started": "2023-01-26T23:15:26.485520Z"
    },
    "tags": []
   },
   "outputs": [],
   "source": [
    "def xentropy(p,q):\n",
    "    return -np.sum(p*np.log(q))"
   ]
  },
  {
   "cell_type": "code",
   "execution_count": 23,
   "id": "e603e423-c676-43c3-b9cd-0ce74d436241",
   "metadata": {
    "execution": {
     "iopub.execute_input": "2023-01-26T23:15:26.771494Z",
     "iopub.status.busy": "2023-01-26T23:15:26.771122Z",
     "iopub.status.idle": "2023-01-26T23:15:26.775107Z",
     "shell.execute_reply": "2023-01-26T23:15:26.774340Z",
     "shell.execute_reply.started": "2023-01-26T23:15:26.771470Z"
    },
    "tags": []
   },
   "outputs": [],
   "source": [
    "def EMD(p, q):\n",
    "    return np.abs(p-q).sum()"
   ]
  },
  {
   "cell_type": "code",
   "execution_count": 24,
   "id": "5737b5e1-8e72-471c-a416-2835327e8fec",
   "metadata": {
    "execution": {
     "iopub.execute_input": "2023-01-26T23:15:27.362052Z",
     "iopub.status.busy": "2023-01-26T23:15:27.361651Z",
     "iopub.status.idle": "2023-01-26T23:15:27.366877Z",
     "shell.execute_reply": "2023-01-26T23:15:27.366156Z",
     "shell.execute_reply.started": "2023-01-26T23:15:27.362025Z"
    },
    "tags": []
   },
   "outputs": [],
   "source": [
    "def proportions_clusters(data_subset, mapping, ordering=[0,1,2,3,4], return_n = False):\n",
    "    counts = np.zeros(len(ordering))\n",
    "    categories = data_subset.unique()\n",
    "    for i,cat in enumerate(categories):\n",
    "        counts[mapping[cat]] += (data_subset == cat).sum()\n",
    "    n = len(data_subset)\n",
    "    if return_n:\n",
    "        return counts / n, n\n",
    "    else:\n",
    "        return counts / n"
   ]
  },
  {
   "cell_type": "markdown",
   "id": "04e0fbaa-e804-49ed-a0d0-c95207bfef30",
   "metadata": {
    "tags": []
   },
   "source": [
    "# Umap Fiddling"
   ]
  },
  {
   "cell_type": "markdown",
   "id": "65e4d318-8061-4162-aa4c-f32ff314afef",
   "metadata": {
    "tags": []
   },
   "source": [
    "## PCA Transform"
   ]
  },
  {
   "cell_type": "code",
   "execution_count": 11,
   "id": "e9578a83-79f4-416d-850a-541fadf918e7",
   "metadata": {
    "execution": {
     "iopub.execute_input": "2023-01-26T19:58:54.991952Z",
     "iopub.status.busy": "2023-01-26T19:58:54.991643Z",
     "iopub.status.idle": "2023-01-26T19:59:21.423422Z",
     "shell.execute_reply": "2023-01-26T19:59:21.422793Z",
     "shell.execute_reply.started": "2023-01-26T19:58:54.991932Z"
    },
    "tags": []
   },
   "outputs": [],
   "source": [
    "pca_comps = 200\n",
    "\n",
    "pca_float = PCA(n_components = pca_comps)\n",
    "pca_float.fit(cudata)\n",
    "output = pca_float.transform(cudata)"
   ]
  },
  {
   "cell_type": "markdown",
   "id": "bba451d7-a4b3-4e78-ae09-af7303c78539",
   "metadata": {
    "tags": []
   },
   "source": [
    "## UMAP Fit and Transform 2d"
   ]
  },
  {
   "cell_type": "code",
   "execution_count": null,
   "id": "8fb76caf-5184-49e0-8b50-3d9ae43e2b7c",
   "metadata": {
    "tags": []
   },
   "outputs": [],
   "source": [
    "reducer = UMAP(n_neighbors=30,min_dist=0.3)\n",
    "embedding = reducer.fit_transform(output)\n",
    "embedding_big = reducer.fit_transform(cudata)"
   ]
  },
  {
   "cell_type": "code",
   "execution_count": null,
   "id": "5045d9d8-96c1-4a4f-8bd2-f5ee907c444b",
   "metadata": {
    "tags": []
   },
   "outputs": [],
   "source": [
    "embedding_big.shape"
   ]
  },
  {
   "cell_type": "code",
   "execution_count": null,
   "id": "354e9486-67b0-4331-8b80-5c2e7e2ab76f",
   "metadata": {
    "tags": []
   },
   "outputs": [],
   "source": [
    "plt.scatter(embedding_big[0].to_arrow().to_pylist(), embedding_big[1].to_arrow().to_pylist(), c=genecolors, s=10)\n",
    "plt.title('UMAP embedding of genes');"
   ]
  },
  {
   "cell_type": "code",
   "execution_count": null,
   "id": "aadb7f29-d58e-4923-b996-42d363f445c8",
   "metadata": {
    "tags": []
   },
   "outputs": [],
   "source": [
    "plt.scatter(embedding[0].to_arrow().to_pylist(), embedding[1].to_arrow().to_pylist(), c=genecolors, s=0.3)\n",
    "plt.title('UMAP embedding of genes');"
   ]
  },
  {
   "cell_type": "markdown",
   "id": "0c924bf6-b736-4f87-a5d1-aaaf2b7aee0b",
   "metadata": {
    "tags": []
   },
   "source": [
    "## UMAP Fit and Transform 3d"
   ]
  },
  {
   "cell_type": "code",
   "execution_count": null,
   "id": "7336a78a-5684-4503-aabc-3ddfe2be63ba",
   "metadata": {
    "tags": []
   },
   "outputs": [],
   "source": [
    "reducer3d = UMAP(n_neighbors=30,min_dist=0.3, n_components=3)\n",
    "gc.collect()"
   ]
  },
  {
   "cell_type": "code",
   "execution_count": null,
   "id": "85df55c2-69f2-460c-913f-f4324af2e961",
   "metadata": {
    "tags": []
   },
   "outputs": [],
   "source": [
    "embedding3d = reducer3d.fit_transform(output)"
   ]
  },
  {
   "cell_type": "code",
   "execution_count": null,
   "id": "7d481f6d-7752-49a1-b72d-e0f33c4eb5ac",
   "metadata": {
    "tags": []
   },
   "outputs": [],
   "source": [
    "embedding_big3d = reducer3d.fit_transform(cudata)"
   ]
  },
  {
   "cell_type": "code",
   "execution_count": null,
   "id": "8afd63be-378b-4196-bf63-feb41f592632",
   "metadata": {
    "tags": []
   },
   "outputs": [],
   "source": [
    "fig = plt.figure()\n",
    "ax = fig.add_subplot(111, projection='3d')\n",
    "plt.scatter(embedding3d[0].to_arrow().to_pylist(), embedding3d[1].to_arrow().to_pylist(), embedding3d[2].to_arrow().to_pylist(), c=genecolors)\n",
    "plt.title('UMAP embedding of genes');"
   ]
  },
  {
   "cell_type": "markdown",
   "id": "cfebd7e9-4203-4681-bd90-96decdd84740",
   "metadata": {},
   "source": [
    "# Experiment Time"
   ]
  },
  {
   "cell_type": "markdown",
   "id": "4552f069-210c-43de-8f6e-75d7a1ee4586",
   "metadata": {
    "tags": []
   },
   "source": [
    "### Set useful variables"
   ]
  },
  {
   "cell_type": "code",
   "execution_count": 77,
   "id": "3d40899e-ef57-493f-8d14-21b40806e092",
   "metadata": {
    "execution": {
     "iopub.execute_input": "2023-01-26T20:21:12.412380Z",
     "iopub.status.busy": "2023-01-26T20:21:12.411995Z",
     "iopub.status.idle": "2023-01-26T20:21:12.422454Z",
     "shell.execute_reply": "2023-01-26T20:21:12.421856Z",
     "shell.execute_reply.started": "2023-01-26T20:21:12.412351Z"
    },
    "tags": []
   },
   "outputs": [],
   "source": [
    "colors = ['blue','red','green','black','pink']\n",
    "ordering = ['progenitor','effector','terminal exhausted','cycling','other']\n",
    "classes = [0,1,2,3,4]\n",
    "\n",
    "colordict = {s:c for (s,c) in zip(ordering, colors)}\n",
    "classdict = {s:c for (s,c) in zip(ordering, classes)}\n",
    "\n",
    "genecolors = [colordict[s] for s in adata.obs['state']]\n",
    "classes = [classdict[s] for s in adata.obs['state']]"
   ]
  },
  {
   "cell_type": "markdown",
   "id": "f282524f-eeab-4f92-8438-17176a35811c",
   "metadata": {
    "tags": []
   },
   "source": [
    "### PCA"
   ]
  },
  {
   "cell_type": "code",
   "execution_count": 13,
   "id": "b3146722-d94b-472a-b5bc-85afabcde7f9",
   "metadata": {
    "execution": {
     "iopub.execute_input": "2023-01-26T19:59:21.438894Z",
     "iopub.status.busy": "2023-01-26T19:59:21.438591Z",
     "iopub.status.idle": "2023-01-26T19:59:46.373934Z",
     "shell.execute_reply": "2023-01-26T19:59:46.373295Z",
     "shell.execute_reply.started": "2023-01-26T19:59:21.438875Z"
    },
    "tags": []
   },
   "outputs": [],
   "source": [
    "pca_comps = 100 # Number of components used in Innes's cell experiments\n",
    "\n",
    "pca_train = PCA(n_components = pca_comps)\n",
    "pca_train.fit(cudata)\n",
    "output = pca_train.transform(cudata)"
   ]
  },
  {
   "cell_type": "code",
   "execution_count": 14,
   "id": "1fd5c008-3016-40f1-9f38-8db98c737642",
   "metadata": {
    "execution": {
     "iopub.execute_input": "2023-01-26T19:59:46.375171Z",
     "iopub.status.busy": "2023-01-26T19:59:46.374875Z",
     "iopub.status.idle": "2023-01-26T19:59:46.378928Z",
     "shell.execute_reply": "2023-01-26T19:59:46.378321Z",
     "shell.execute_reply.started": "2023-01-26T19:59:46.375149Z"
    },
    "tags": []
   },
   "outputs": [],
   "source": [
    "# We don't want to train on genes without perturbations\n",
    "\n",
    "genes = adata.obs['condition'].unique().tolist()\n",
    "genes.remove(genes[0])"
   ]
  },
  {
   "cell_type": "markdown",
   "id": "19fc5502-1e7e-4adc-9742-a07a68013f7e",
   "metadata": {
    "jp-MarkdownHeadingCollapsed": true,
    "tags": []
   },
   "source": [
    "### Data Splitting"
   ]
  },
  {
   "cell_type": "code",
   "execution_count": 16,
   "id": "514b59a6-9d0f-40df-8c75-bee844528384",
   "metadata": {
    "execution": {
     "iopub.execute_input": "2023-01-26T19:59:46.385510Z",
     "iopub.status.busy": "2023-01-26T19:59:46.385247Z",
     "iopub.status.idle": "2023-01-26T19:59:46.389657Z",
     "shell.execute_reply": "2023-01-26T19:59:46.388994Z",
     "shell.execute_reply.started": "2023-01-26T19:59:46.385491Z"
    },
    "tags": []
   },
   "outputs": [],
   "source": [
    "train, test = train_test_split(genes,train_size = 0.75, random_state = 34)"
   ]
  },
  {
   "cell_type": "code",
   "execution_count": 17,
   "id": "1f674b4b-fcf6-4bf8-8ebb-6513d393f47b",
   "metadata": {
    "execution": {
     "iopub.execute_input": "2023-01-26T19:59:46.390744Z",
     "iopub.status.busy": "2023-01-26T19:59:46.390469Z",
     "iopub.status.idle": "2023-01-26T19:59:46.396319Z",
     "shell.execute_reply": "2023-01-26T19:59:46.395742Z",
     "shell.execute_reply.started": "2023-01-26T19:59:46.390725Z"
    },
    "tags": []
   },
   "outputs": [],
   "source": [
    "train_set = set(train)\n",
    "test_set = set(test)"
   ]
  },
  {
   "cell_type": "code",
   "execution_count": 18,
   "id": "c3a6a13d-c0aa-4aa3-a742-7e2fb6e21ba1",
   "metadata": {
    "execution": {
     "iopub.execute_input": "2023-01-26T19:59:46.397583Z",
     "iopub.status.busy": "2023-01-26T19:59:46.397180Z",
     "iopub.status.idle": "2023-01-26T19:59:46.423068Z",
     "shell.execute_reply": "2023-01-26T19:59:46.422454Z",
     "shell.execute_reply.started": "2023-01-26T19:59:46.397554Z"
    },
    "tags": []
   },
   "outputs": [],
   "source": [
    "train_ind = [x in train_set for x in adata.obs['condition']]\n",
    "train_x = output[train_ind]\n",
    "train_y = cudf.DataFrame([classdict[s] for s in adata.obs['state'][train_ind]])"
   ]
  },
  {
   "cell_type": "code",
   "execution_count": 19,
   "id": "e1ed9f9e-fc1c-4c76-9746-f49a77ec46bd",
   "metadata": {
    "execution": {
     "iopub.execute_input": "2023-01-26T19:59:46.424218Z",
     "iopub.status.busy": "2023-01-26T19:59:46.423955Z",
     "iopub.status.idle": "2023-01-26T19:59:46.440861Z",
     "shell.execute_reply": "2023-01-26T19:59:46.440332Z",
     "shell.execute_reply.started": "2023-01-26T19:59:46.424198Z"
    },
    "tags": []
   },
   "outputs": [],
   "source": [
    "test_ind = [x in test_set for x in adata.obs['condition']]\n",
    "test_x = output[test_ind]\n",
    "test_y = cudf.DataFrame([classdict[s] for s in adata.obs['state'][test_ind]])"
   ]
  },
  {
   "cell_type": "code",
   "execution_count": 20,
   "id": "bc0e1ac3-3b30-4315-81ca-24585cc9617c",
   "metadata": {
    "execution": {
     "iopub.execute_input": "2023-01-26T19:59:46.441911Z",
     "iopub.status.busy": "2023-01-26T19:59:46.441633Z",
     "iopub.status.idle": "2023-01-26T19:59:46.459969Z",
     "shell.execute_reply": "2023-01-26T19:59:46.459412Z",
     "shell.execute_reply.started": "2023-01-26T19:59:46.441889Z"
    },
    "tags": []
   },
   "outputs": [],
   "source": [
    "cattest = [classdict[s] for s in adata.obs['state'][test_ind]]\n",
    "colortest = [colordict[s] for s in adata.obs['state'][test_ind]]\n",
    "\n",
    "colortrain = [colordict[s] for s in adata.obs['state'][train_ind]]\n",
    "cattrain = np.array([classdict[s] for s in adata.obs['state'][train_ind]])"
   ]
  },
  {
   "cell_type": "markdown",
   "id": "dec263f3-64a5-4ba0-b1ac-e84a609baf08",
   "metadata": {
    "tags": []
   },
   "source": [
    "### Embed and Plot"
   ]
  },
  {
   "cell_type": "code",
   "execution_count": 46,
   "id": "37e60bce-577b-4852-96be-735ee336b29e",
   "metadata": {
    "execution": {
     "iopub.execute_input": "2023-01-26T21:39:38.859054Z",
     "iopub.status.busy": "2023-01-26T21:39:38.858658Z",
     "iopub.status.idle": "2023-01-26T21:39:39.287786Z",
     "shell.execute_reply": "2023-01-26T21:39:39.286960Z",
     "shell.execute_reply.started": "2023-01-26T21:39:38.859029Z"
    },
    "tags": []
   },
   "outputs": [
    {
     "data": {
      "text/plain": [
       "UMAP()"
      ]
     },
     "execution_count": 46,
     "metadata": {},
     "output_type": "execute_result"
    }
   ],
   "source": [
    "reducer = UMAP(n_neighbors=30, min_dist=0.1)\n",
    "reducer.fit(train_x,train_y, )"
   ]
  },
  {
   "cell_type": "code",
   "execution_count": null,
   "id": "f27b064e-63e2-4aee-9459-878776372fc6",
   "metadata": {
    "tags": []
   },
   "outputs": [],
   "source": [
    "y_train_est = reducer.transform(train_x)"
   ]
  },
  {
   "cell_type": "code",
   "execution_count": null,
   "id": "bb1ae233-4165-4f9c-a5fc-a34308bd8837",
   "metadata": {
    "tags": []
   },
   "outputs": [],
   "source": [
    "y_est = reducer.transform(test_x)"
   ]
  },
  {
   "cell_type": "code",
   "execution_count": null,
   "id": "0e9bf18a-397b-4514-9982-ceb42487fa48",
   "metadata": {
    "tags": []
   },
   "outputs": [],
   "source": [
    "plt.scatter(y_est[0].to_arrow().to_pylist(), y_est[1].to_arrow().to_pylist(), c=colortest, s=0.3)\n",
    "plt.title('UMAP embedding of genes');"
   ]
  },
  {
   "cell_type": "code",
   "execution_count": null,
   "id": "b08db0e3-5cec-450a-be33-9523528c0658",
   "metadata": {
    "tags": []
   },
   "outputs": [],
   "source": [
    "plt.scatter(y_train_est[0].to_arrow().to_pylist(), y_train_est[1].to_arrow().to_pylist(), c=colortrain, s=0.3)\n",
    "plt.title('UMAP embedding of genes');"
   ]
  },
  {
   "cell_type": "markdown",
   "id": "7ca90d18-a2e1-4a80-8e6f-5c074b836b4f",
   "metadata": {
    "tags": []
   },
   "source": [
    "# Map Clusters"
   ]
  },
  {
   "cell_type": "markdown",
   "id": "36cf6b5e-3498-44d6-a789-a2a0cbc067b6",
   "metadata": {
    "jp-MarkdownHeadingCollapsed": true,
    "tags": []
   },
   "source": [
    "### KMeans Clustering"
   ]
  },
  {
   "cell_type": "code",
   "execution_count": null,
   "id": "79187df9-2e86-4b07-9fa5-876dc121d582",
   "metadata": {
    "tags": []
   },
   "outputs": [],
   "source": [
    "kmeans = KMeans(n_clusters = 6)\n",
    "cats_kmeans = kmeans.fit_predict(y_est)"
   ]
  },
  {
   "cell_type": "code",
   "execution_count": null,
   "id": "549e5b97-372e-4751-9332-a0cab050cb73",
   "metadata": {
    "tags": []
   },
   "outputs": [],
   "source": [
    "plt.scatter(y_est[0].to_arrow().to_pylist(), \n",
    "            y_est[1].to_arrow().to_pylist(),\n",
    "            c=kmeans.labels_.to_numpy(),\n",
    "            s=0.13,\n",
    "            cmap='Spectral');"
   ]
  },
  {
   "cell_type": "markdown",
   "id": "d08de7d9-df45-4146-bb09-a8186ce718a1",
   "metadata": {
    "jp-MarkdownHeadingCollapsed": true,
    "tags": []
   },
   "source": [
    "### HDBSCAN Clusters of Test"
   ]
  },
  {
   "cell_type": "code",
   "execution_count": null,
   "id": "4811c3bd-9bab-4476-a030-5333b6003753",
   "metadata": {
    "tags": []
   },
   "outputs": [],
   "source": [
    "hdbscan = HDBSCAN(min_samples=10,\n",
    "    min_cluster_size=100,)\n",
    "cats_hdb = hdbscan.fit_predict(y_est)"
   ]
  },
  {
   "cell_type": "code",
   "execution_count": null,
   "id": "88d4d95b-ff58-4108-8ca7-5af17cdf9fee",
   "metadata": {
    "tags": []
   },
   "outputs": [],
   "source": [
    "plt.scatter(y_est[0].to_arrow().to_pylist(), \n",
    "            y_est[1].to_arrow().to_pylist(),\n",
    "            c=hdbscan.labels_.to_numpy(),\n",
    "            s=0.13,\n",
    "            cmap='Spectral');"
   ]
  },
  {
   "cell_type": "markdown",
   "id": "98299321-f0be-43d4-95fc-8d092c4996ec",
   "metadata": {
    "jp-MarkdownHeadingCollapsed": true,
    "tags": []
   },
   "source": [
    "### DBSCAN Clustering of Test"
   ]
  },
  {
   "cell_type": "code",
   "execution_count": null,
   "id": "42067256-730c-4faa-a08f-d033a36f1f85",
   "metadata": {
    "tags": []
   },
   "outputs": [],
   "source": [
    "dbscan = DBSCAN()\n",
    "cats_db = dbscan.fit_predict(y_est)\n",
    "clustered = [c >= 0 for c in cats_db.to_numpy()]\n",
    "y_est_dn = y_est[clustered]\n",
    "y_est_labels = dbscan.labels_[clustered].to_numpy()"
   ]
  },
  {
   "cell_type": "code",
   "execution_count": null,
   "id": "60972e0e-c987-4353-82c8-68a6aba63c94",
   "metadata": {
    "tags": []
   },
   "outputs": [],
   "source": [
    "plt.scatter(y_est[0][clustered].to_arrow().to_pylist(), \n",
    "            y_est[1][clustered].to_arrow().to_pylist(),\n",
    "            c=dbscan.labels_[clustered].to_numpy(),\n",
    "            s=0.13,\n",
    "            cmap='Spectral');"
   ]
  },
  {
   "cell_type": "code",
   "execution_count": null,
   "id": "7e70571b-054c-4e09-9256-81b9555521a4",
   "metadata": {
    "tags": []
   },
   "outputs": [],
   "source": [
    "plt.scatter(y_est[0][clustered].to_arrow().to_pylist(), \n",
    "            y_est[1][clustered].to_arrow().to_pylist(),\n",
    "            c=pd.Series(cattest)[clustered].to_numpy(),\n",
    "            s=0.13,\n",
    "            cmap='Spectral');"
   ]
  },
  {
   "cell_type": "markdown",
   "id": "ec788833-906f-44bc-830c-1b352e0ad7f5",
   "metadata": {
    "jp-MarkdownHeadingCollapsed": true,
    "tags": []
   },
   "source": [
    "### HDBScan clustering of train with threshold"
   ]
  },
  {
   "cell_type": "code",
   "execution_count": null,
   "id": "d70a429f-9035-49fb-9cb8-6ba63f5f8207",
   "metadata": {
    "tags": []
   },
   "outputs": [],
   "source": [
    "thresh = 0.5\n",
    "\n",
    "hdbscan = HDBSCAN(min_samples=10,\n",
    "    min_cluster_size=100,)\n",
    "\n",
    "hdbscan.fit_predict(y_train_est)\n",
    "\n",
    "clustered = [p > thresh for p in hdbscan.probabilities_.to_numpy()]\n",
    "\n",
    "ytr_dn = y_train_est[clustered]\n",
    "ytr_labels = hdbscan.labels_[clustered].to_numpy()\n",
    "\n",
    "plt.scatter(ytr_dn[0].to_numpy(), \n",
    "            ytr_dn[1].to_numpy(),\n",
    "            c=ytr_labels,\n",
    "            s=0.13,\n",
    "            cmap='Spectral');\n",
    "\n",
    "n_clusters = np.unique(hdbscan.labels_[clustered].to_numpy())"
   ]
  },
  {
   "cell_type": "markdown",
   "id": "93f0875b-080b-4126-9168-bb56be19114b",
   "metadata": {
    "tags": []
   },
   "source": [
    "### Compute clusters and distribution diff"
   ]
  },
  {
   "cell_type": "code",
   "execution_count": null,
   "id": "b23a0e05-1f8b-481c-9a07-927950dc39f7",
   "metadata": {
    "tags": []
   },
   "outputs": [],
   "source": [
    "# est train to est test categories\n",
    "dists = c1toc2(ytr_dn.to_numpy(),ytr_labels,y_est_dn.to_numpy(), y_est_labels)\n",
    "dists = sorted(dists, key=lambda x: x[0][0])\n",
    "# This is finnicky\n",
    "#dists = list(filter(lambda d: d[1] < 2, dists))\n",
    "c1_order = [d[0][0] for d in dists]\n",
    "c2_order = [d[0][1] for d in dists]\n",
    "\n",
    "#p1 = proportions_clusters(data_subset = ytr_labels, ordering = c1_order)\n",
    "#p2 = proportions_clusters(data_subset = y_est_labels, ordering = c2_order)"
   ]
  },
  {
   "cell_type": "code",
   "execution_count": null,
   "id": "4a671882-7de4-461a-970f-59f5c0c9550c",
   "metadata": {
    "tags": []
   },
   "outputs": [],
   "source": [
    "EMD(p1,p2), xentropy(p1,p2)"
   ]
  },
  {
   "cell_type": "code",
   "execution_count": null,
   "id": "589b2c41-639d-4d4e-bf6c-734e73117b29",
   "metadata": {
    "tags": []
   },
   "outputs": [],
   "source": [
    "dists = c1toc2(y_est_dn.to_numpy(), y_est_labels, y_est.to_numpy(), pd.Series(cattest))\n",
    "dists = sorted(dists, key=lambda x: x[0][0])\n",
    "# This is finnicky\n",
    "#dists = list(filter(lambda d: d[1] < 2, dists))\n",
    "c1_order = [d[0][0] for d in dists]\n",
    "c2_order = [d[0][1] for d in dists]\n",
    "\n",
    "#p1 = proportions_clusters(data_subset = y_est_labels, ordering = c1_order)\n",
    "#p2 = proportions_clusters(data_subset = cattest, ordering = c2_order)"
   ]
  },
  {
   "cell_type": "code",
   "execution_count": null,
   "id": "8139023d-0c37-4b68-98eb-90b079ac78f4",
   "metadata": {
    "tags": []
   },
   "outputs": [],
   "source": [
    "mapper = catgy_cluster_map(y_est_dn.to_numpy(), y_est_labels, y_est.to_numpy(), pd.Series(cattest))"
   ]
  },
  {
   "cell_type": "code",
   "execution_count": null,
   "id": "a30b01f5-8ee1-4429-9670-4a968488c7bd",
   "metadata": {
    "tags": []
   },
   "outputs": [],
   "source": [
    "y_est_mapped = pd.Series([mapper[x] for x in y_est_labels])\n",
    "p1 = proportions_clusters(data_subset = y_est_mapped, ordering = [0,1,2,3,4])\n",
    "p2 = proportions_clusters(data_subset = pd.Series(cattest), ordering = [0,1,2,3,4])"
   ]
  },
  {
   "cell_type": "code",
   "execution_count": null,
   "id": "7a5fee4c-6644-4e41-87d8-142c1f2bb40d",
   "metadata": {
    "tags": []
   },
   "outputs": [],
   "source": [
    "EMD(p1,p2), xentropy(p1,p2)"
   ]
  },
  {
   "cell_type": "markdown",
   "id": "2e78e057-0e9f-4ee0-949d-fba85c4a1a38",
   "metadata": {},
   "source": [
    "# Run Experiment with Unperturbed and Simulated Perturbed gene"
   ]
  },
  {
   "cell_type": "code",
   "execution_count": 19,
   "id": "999acae2-f848-4809-a586-576fd8adefe7",
   "metadata": {
    "execution": {
     "iopub.execute_input": "2023-01-26T21:29:18.552504Z",
     "iopub.status.busy": "2023-01-26T21:29:18.552308Z",
     "iopub.status.idle": "2023-01-26T21:29:44.016983Z",
     "shell.execute_reply": "2023-01-26T21:29:44.016333Z",
     "shell.execute_reply.started": "2023-01-26T21:29:18.552486Z"
    },
    "tags": []
   },
   "outputs": [],
   "source": [
    "pca_comps = 100 # Number of components used in Innes's cell experiments\n",
    "\n",
    "pca_train = PCA(n_components = pca_comps)\n",
    "pca_train.fit(cudata)\n",
    "output = pca_train.transform(cudata)"
   ]
  },
  {
   "cell_type": "code",
   "execution_count": 20,
   "id": "f0aabe7c-e958-49b7-8cb7-67572d622788",
   "metadata": {
    "execution": {
     "iopub.execute_input": "2023-01-26T21:29:44.018168Z",
     "iopub.status.busy": "2023-01-26T21:29:44.017866Z",
     "iopub.status.idle": "2023-01-26T21:29:44.023190Z",
     "shell.execute_reply": "2023-01-26T21:29:44.022574Z",
     "shell.execute_reply.started": "2023-01-26T21:29:44.018137Z"
    },
    "tags": []
   },
   "outputs": [],
   "source": [
    "catunpt = [classdict[s] for s in adata.obs['state'][adata.obs['condition'] == 'Unperturbed']]"
   ]
  },
  {
   "cell_type": "code",
   "execution_count": 21,
   "id": "f769022e-c15a-4be4-91f6-b4e70bcbe139",
   "metadata": {
    "execution": {
     "iopub.execute_input": "2023-01-26T21:29:44.024393Z",
     "iopub.status.busy": "2023-01-26T21:29:44.024108Z",
     "iopub.status.idle": "2023-01-26T21:29:44.028196Z",
     "shell.execute_reply": "2023-01-26T21:29:44.027565Z",
     "shell.execute_reply.started": "2023-01-26T21:29:44.024373Z"
    },
    "tags": []
   },
   "outputs": [],
   "source": [
    "unpert_index = adata.obs['condition'] == 'Unperturbed'"
   ]
  },
  {
   "cell_type": "code",
   "execution_count": 22,
   "id": "f83e71a7-a87b-4f82-90d1-0047ca4ca525",
   "metadata": {
    "execution": {
     "iopub.execute_input": "2023-01-26T21:29:44.029282Z",
     "iopub.status.busy": "2023-01-26T21:29:44.029082Z",
     "iopub.status.idle": "2023-01-26T21:29:44.042056Z",
     "shell.execute_reply": "2023-01-26T21:29:44.041529Z",
     "shell.execute_reply.started": "2023-01-26T21:29:44.029264Z"
    },
    "tags": []
   },
   "outputs": [],
   "source": [
    "genes_unpert = output[unpert_index]"
   ]
  },
  {
   "cell_type": "code",
   "execution_count": 23,
   "id": "fcc7bedf-7484-41a2-95ae-32af7d9b60a0",
   "metadata": {
    "execution": {
     "iopub.execute_input": "2023-01-26T21:29:44.043575Z",
     "iopub.status.busy": "2023-01-26T21:29:44.042976Z",
     "iopub.status.idle": "2023-01-26T21:29:44.066239Z",
     "shell.execute_reply": "2023-01-26T21:29:44.065617Z",
     "shell.execute_reply.started": "2023-01-26T21:29:44.043541Z"
    },
    "tags": []
   },
   "outputs": [],
   "source": [
    "train_ind = [x != 'Unperturbed' for x in adata.obs['condition']]\n",
    "train_x = output[train_ind]\n",
    "train_y = cudf.DataFrame([classdict[s] for s in adata.obs['state'][train_ind]])"
   ]
  },
  {
   "cell_type": "code",
   "execution_count": 24,
   "id": "cdad1ca6-2a44-45b9-ac48-355b1afd6f58",
   "metadata": {
    "execution": {
     "iopub.execute_input": "2023-01-26T21:29:44.067378Z",
     "iopub.status.busy": "2023-01-26T21:29:44.067082Z",
     "iopub.status.idle": "2023-01-26T21:29:44.071040Z",
     "shell.execute_reply": "2023-01-26T21:29:44.070283Z",
     "shell.execute_reply.started": "2023-01-26T21:29:44.067357Z"
    },
    "tags": []
   },
   "outputs": [],
   "source": [
    "test = adata.obs['state'].copy()"
   ]
  },
  {
   "cell_type": "code",
   "execution_count": 25,
   "id": "aa5c8733-17c6-40ce-a818-e11ec853eb61",
   "metadata": {
    "execution": {
     "iopub.execute_input": "2023-01-26T21:29:44.072285Z",
     "iopub.status.busy": "2023-01-26T21:29:44.072020Z",
     "iopub.status.idle": "2023-01-26T21:29:44.750510Z",
     "shell.execute_reply": "2023-01-26T21:29:44.749753Z",
     "shell.execute_reply.started": "2023-01-26T21:29:44.072264Z"
    },
    "tags": []
   },
   "outputs": [
    {
     "data": {
      "text/plain": [
       "UMAP()"
      ]
     },
     "execution_count": 25,
     "metadata": {},
     "output_type": "execute_result"
    }
   ],
   "source": [
    "reducer = UMAP(n_neighbors=30, min_dist=0.1)\n",
    "reducer.fit(train_x,train_y)"
   ]
  },
  {
   "cell_type": "code",
   "execution_count": 26,
   "id": "97422e4c-101b-445f-ac10-c738cc254d7e",
   "metadata": {
    "execution": {
     "iopub.execute_input": "2023-01-26T21:29:44.751763Z",
     "iopub.status.busy": "2023-01-26T21:29:44.751455Z",
     "iopub.status.idle": "2023-01-26T21:29:44.885330Z",
     "shell.execute_reply": "2023-01-26T21:29:44.884715Z",
     "shell.execute_reply.started": "2023-01-26T21:29:44.751740Z"
    },
    "tags": []
   },
   "outputs": [],
   "source": [
    "train_x_embed = reducer.transform(train_x)"
   ]
  },
  {
   "cell_type": "code",
   "execution_count": 27,
   "id": "22a1732b-3f45-4385-835f-f2ff89597cfb",
   "metadata": {
    "execution": {
     "iopub.execute_input": "2023-01-26T21:29:44.886530Z",
     "iopub.status.busy": "2023-01-26T21:29:44.886232Z",
     "iopub.status.idle": "2023-01-26T21:29:44.937136Z",
     "shell.execute_reply": "2023-01-26T21:29:44.936449Z",
     "shell.execute_reply.started": "2023-01-26T21:29:44.886507Z"
    },
    "tags": []
   },
   "outputs": [],
   "source": [
    "unpert_y = reducer.transform(genes_unpert)"
   ]
  },
  {
   "cell_type": "code",
   "execution_count": 66,
   "id": "92acdd64-146f-4d15-9851-fcc474b3c64d",
   "metadata": {
    "execution": {
     "iopub.execute_input": "2023-01-26T23:42:15.418228Z",
     "iopub.status.busy": "2023-01-26T23:42:15.417799Z",
     "iopub.status.idle": "2023-01-26T23:42:15.422748Z",
     "shell.execute_reply": "2023-01-26T23:42:15.422046Z",
     "shell.execute_reply.started": "2023-01-26T23:42:15.418200Z"
    },
    "tags": []
   },
   "outputs": [],
   "source": [
    "def get_orig_cluster(adata, classdict, subset, cluster):\n",
    "    '''\n",
    "    cluster selects the elements of the subset selected\n",
    "    subset selects elements of adata\n",
    "    '''\n",
    "    indices_cluster = adata.obs['state'][subset].index[cluster]\n",
    "    states_cluster = adata.obs['state'][indices_cluster]\n",
    "    classes_cluster = [classdict[s] for s in states_cluster]\n",
    "    mode = scimode(classes_cluster).mode[0]\n",
    "    return mode"
   ]
  },
  {
   "cell_type": "code",
   "execution_count": 71,
   "id": "43a165fa-1c58-4582-87c6-d634b3dbe8a0",
   "metadata": {
    "execution": {
     "iopub.execute_input": "2023-01-26T23:46:49.366343Z",
     "iopub.status.busy": "2023-01-26T23:46:49.365945Z",
     "iopub.status.idle": "2023-01-26T23:46:49.371237Z",
     "shell.execute_reply": "2023-01-26T23:46:49.370360Z",
     "shell.execute_reply.started": "2023-01-26T23:46:49.366318Z"
    },
    "tags": []
   },
   "outputs": [],
   "source": [
    "def get_cluster_mapping_to_orig(adata, classdict, subset, labels):\n",
    "    \"\"\"\n",
    "    labels categorizes subset,\n",
    "    subset selects part of adata\n",
    "    \n",
    "    range of mapping will always be {0,1,2,3,4}\n",
    "    \"\"\"\n",
    "    mapping = {}\n",
    "    categories = labels.unique()\n",
    "    categories = categories[categories != -1]\n",
    "    for c in categories:\n",
    "        cluster = [c == cat for cat in labels.to_numpy()]\n",
    "        mapping[c] = get_orig_cluster(adata, classdict, subset, cluster)\n",
    "    return mapping"
   ]
  },
  {
   "cell_type": "code",
   "execution_count": 134,
   "id": "42d19c62-5de5-4583-92dc-85dca7facee9",
   "metadata": {
    "execution": {
     "iopub.execute_input": "2023-01-26T21:09:03.763460Z",
     "iopub.status.busy": "2023-01-26T21:09:03.763158Z",
     "iopub.status.idle": "2023-01-26T21:09:03.770071Z",
     "shell.execute_reply": "2023-01-26T21:09:03.769321Z",
     "shell.execute_reply.started": "2023-01-26T21:09:03.763440Z"
    },
    "tags": []
   },
   "outputs": [],
   "source": [
    "mapping = get_cluster_mapping_to_orig(adata, classdict, subset, cats_dbscan.to_pandas())\n",
    "\n",
    "proportions_clusters(data_subset = pd.Series(y_unpert_labels), mapping=mapping)\n"
   ]
  },
  {
   "cell_type": "code",
   "execution_count": null,
   "id": "503e9971-db18-4d06-82ed-26ba02a81c29",
   "metadata": {},
   "outputs": [],
   "source": [
    "thresh = 0.5\n",
    "\n",
    "hdbscan = HDBSCAN(min_samples=10,\n",
    "    min_cluster_size=100,)\n",
    "\n",
    "hdbscan.fit_predict(train_x_embed)\n",
    "\n",
    "clustered = [p > thresh for p in hdbscan.probabilities_.to_numpy()]\n",
    "\n",
    "x_embed_test = y_train_est[clustered]\n",
    "ytr_labels = hdbscan.labels_[clustered].to_numpy()\n",
    "\n",
    "plt.scatter(ytr_dn[0].to_numpy(), \n",
    "            ytr_dn[1].to_numpy(),\n",
    "            c=ytr_labels,\n",
    "            s=0.13,\n",
    "            cmap='Spectral');"
   ]
  },
  {
   "cell_type": "code",
   "execution_count": 135,
   "id": "b1ba7003-773e-49e8-869b-75893a844f88",
   "metadata": {
    "execution": {
     "iopub.execute_input": "2023-01-26T21:10:22.496506Z",
     "iopub.status.busy": "2023-01-26T21:10:22.496114Z",
     "iopub.status.idle": "2023-01-26T21:10:22.518917Z",
     "shell.execute_reply": "2023-01-26T21:10:22.518319Z",
     "shell.execute_reply.started": "2023-01-26T21:10:22.496479Z"
    },
    "tags": []
   },
   "outputs": [],
   "source": [
    "dbscan = DBSCAN()\n",
    "cats_dbscan = dbscan.fit_predict(y_unpert)\n",
    "clustered = [c >= 0 for c in cats_dbscan.to_numpy()]\n",
    "y_unpert_dn = y_unpert[clustered]\n",
    "y_unpert_labels = dbscan.labels_[clustered].to_numpy()"
   ]
  },
  {
   "cell_type": "code",
   "execution_count": null,
   "id": "45f2f038-8ca0-45fb-8938-175daceaae47",
   "metadata": {},
   "outputs": [],
   "source": [
    "plt.scatter(y_unpert_dn[0].to_arrow().to_pylist(), \n",
    "            y_unpert_dn[1].to_arrow().to_pylist(),\n",
    "            c=y_unpert_labels,\n",
    "            s=0.13,\n",
    "            cmap='Spectral');"
   ]
  },
  {
   "cell_type": "code",
   "execution_count": 30,
   "id": "5ec0d902-5282-47e6-8492-3d25d3b43605",
   "metadata": {
    "execution": {
     "iopub.execute_input": "2023-01-26T21:29:44.954700Z",
     "iopub.status.busy": "2023-01-26T21:29:44.954492Z",
     "iopub.status.idle": "2023-01-26T21:30:07.894264Z",
     "shell.execute_reply": "2023-01-26T21:30:07.893653Z",
     "shell.execute_reply.started": "2023-01-26T21:29:44.954681Z"
    },
    "tags": []
   },
   "outputs": [
    {
     "data": {
      "text/plain": [
       "PCA()"
      ]
     },
     "execution_count": 30,
     "metadata": {},
     "output_type": "execute_result"
    }
   ],
   "source": [
    "pca_train = PCA(n_components = pca_comps)\n",
    "pca_train.fit(cudata)\n"
   ]
  },
  {
   "cell_type": "code",
   "execution_count": 35,
   "id": "5d9c5613-63b4-442b-bde2-27ab2dde7b62",
   "metadata": {
    "execution": {
     "iopub.execute_input": "2023-01-26T21:32:20.617259Z",
     "iopub.status.busy": "2023-01-26T21:32:20.616867Z",
     "iopub.status.idle": "2023-01-26T21:32:20.621945Z",
     "shell.execute_reply": "2023-01-26T21:32:20.621165Z",
     "shell.execute_reply.started": "2023-01-26T21:32:20.617233Z"
    },
    "tags": []
   },
   "outputs": [
    {
     "data": {
      "text/plain": [
       "<0x15077 sparse matrix of type '<class 'numpy.float32'>'\n",
       "\twith 0 stored elements in Compressed Sparse Row format>"
      ]
     },
     "execution_count": 35,
     "metadata": {},
     "output_type": "execute_result"
    }
   ],
   "source": [
    "adata_unpert"
   ]
  },
  {
   "cell_type": "code",
   "execution_count": 39,
   "id": "3904797b-4f3f-4909-8c0f-4dd2b78fc599",
   "metadata": {
    "execution": {
     "iopub.execute_input": "2023-01-26T21:34:04.171255Z",
     "iopub.status.busy": "2023-01-26T21:34:04.170854Z",
     "iopub.status.idle": "2023-01-26T21:34:04.177157Z",
     "shell.execute_reply": "2023-01-26T21:34:04.176308Z",
     "shell.execute_reply.started": "2023-01-26T21:34:04.171229Z"
    },
    "tags": []
   },
   "outputs": [
    {
     "data": {
      "text/plain": [
       "<0x15077 sparse matrix of type '<class 'numpy.float32'>'\n",
       "\twith 0 stored elements in Compressed Sparse Row format>"
      ]
     },
     "execution_count": 39,
     "metadata": {},
     "output_type": "execute_result"
    }
   ],
   "source": [
    "adata.X[adata.obs['state'] == 'Unperturbed']"
   ]
  },
  {
   "cell_type": "markdown",
   "id": "495a0462-9c88-4a26-be1c-d658c7ae6013",
   "metadata": {},
   "source": [
    "# The Real Experiment"
   ]
  },
  {
   "cell_type": "markdown",
   "id": "763fd00a-9ce6-42b8-ae05-a66bee42b316",
   "metadata": {},
   "source": [
    "### PCA"
   ]
  },
  {
   "cell_type": "code",
   "execution_count": 27,
   "id": "a63dd572-26db-4a9f-a09d-077309590df5",
   "metadata": {
    "execution": {
     "iopub.execute_input": "2023-01-26T23:15:47.336700Z",
     "iopub.status.busy": "2023-01-26T23:15:47.336266Z",
     "iopub.status.idle": "2023-01-26T23:16:12.998336Z",
     "shell.execute_reply": "2023-01-26T23:16:12.997475Z",
     "shell.execute_reply.started": "2023-01-26T23:15:47.336672Z"
    },
    "tags": []
   },
   "outputs": [
    {
     "data": {
      "text/plain": [
       "PCA()"
      ]
     },
     "execution_count": 27,
     "metadata": {},
     "output_type": "execute_result"
    }
   ],
   "source": [
    "pca_comps = 100\n",
    "pca_train = PCA(n_components = pca_comps)\n",
    "pca_train.fit(cudata)"
   ]
  },
  {
   "cell_type": "markdown",
   "id": "53305388-579e-4947-aee8-e9517637a47a",
   "metadata": {},
   "source": [
    "### Data Prep"
   ]
  },
  {
   "cell_type": "code",
   "execution_count": 36,
   "id": "141a72f3-2b40-4b20-9543-ebf591ff8af6",
   "metadata": {
    "execution": {
     "iopub.execute_input": "2023-01-26T23:23:39.832506Z",
     "iopub.status.busy": "2023-01-26T23:23:39.831994Z",
     "iopub.status.idle": "2023-01-26T23:23:40.983408Z",
     "shell.execute_reply": "2023-01-26T23:23:40.982755Z",
     "shell.execute_reply.started": "2023-01-26T23:23:39.832468Z"
    },
    "tags": []
   },
   "outputs": [],
   "source": [
    "\n",
    "gene_removed = test_genes[0]\n",
    "unpert_ind = adata.obs['condition'] == 'Unperturbed'\n",
    "adata_unpert = adata[unpert_ind]\n",
    "\n",
    "ind = (adata.var_names == gene_removed).nonzero()[0]\n",
    "\n",
    "adata_pert_copy = adata_unpert.to_df().to_numpy(copy=True)\n",
    "adata_pert_copy[:,ind] = 0"
   ]
  },
  {
   "cell_type": "code",
   "execution_count": 38,
   "id": "2592f200-c940-4233-a090-4caf5bb0bc55",
   "metadata": {
    "execution": {
     "iopub.execute_input": "2023-01-26T23:23:57.447946Z",
     "iopub.status.busy": "2023-01-26T23:23:57.447488Z",
     "iopub.status.idle": "2023-01-26T23:24:00.053187Z",
     "shell.execute_reply": "2023-01-26T23:24:00.052523Z",
     "shell.execute_reply.started": "2023-01-26T23:23:57.447919Z"
    },
    "tags": []
   },
   "outputs": [],
   "source": [
    "pert_cudata = cudf.DataFrame(adata_pert_copy)\n",
    "\n",
    "output = pca_train.transform(pert_cudata)"
   ]
  },
  {
   "cell_type": "code",
   "execution_count": 39,
   "id": "a9734d93-b1b9-4e59-af7c-2913ab175258",
   "metadata": {
    "execution": {
     "iopub.execute_input": "2023-01-26T23:24:24.946180Z",
     "iopub.status.busy": "2023-01-26T23:24:24.945780Z",
     "iopub.status.idle": "2023-01-26T23:24:28.914693Z",
     "shell.execute_reply": "2023-01-26T23:24:28.914046Z",
     "shell.execute_reply.started": "2023-01-26T23:24:24.946156Z"
    },
    "tags": []
   },
   "outputs": [],
   "source": [
    "train_ind = [x != 'Unperturbed' for x in adata.obs['condition']]\n",
    "# Project train data into lower dimension\n",
    "train_x = pca_train.transform(cudata[train_ind])\n",
    "# Known labels for train data\n",
    "train_y = cudf.DataFrame([classdict[s] for s in adata.obs['state'][train_ind]])"
   ]
  },
  {
   "cell_type": "markdown",
   "id": "da01a593-3b04-40fc-86a6-cdd075b5d9fd",
   "metadata": {},
   "source": [
    "### UMAP Fit, Embed"
   ]
  },
  {
   "cell_type": "code",
   "execution_count": 39,
   "id": "8a617a1a-0078-4fef-9109-e2d1f187c0f5",
   "metadata": {
    "execution": {
     "iopub.execute_input": "2023-01-26T23:24:24.946180Z",
     "iopub.status.busy": "2023-01-26T23:24:24.945780Z",
     "iopub.status.idle": "2023-01-26T23:24:28.914693Z",
     "shell.execute_reply": "2023-01-26T23:24:28.914046Z",
     "shell.execute_reply.started": "2023-01-26T23:24:24.946156Z"
    },
    "tags": []
   },
   "outputs": [
    {
     "data": {
      "text/plain": [
       "UMAP()"
      ]
     },
     "execution_count": 39,
     "metadata": {},
     "output_type": "execute_result"
    }
   ],
   "source": [
    "reducer = UMAP(n_neighbors=30, min_dist=0.1)\n",
    "reducer.fit(train_x,train_y)"
   ]
  },
  {
   "cell_type": "code",
   "execution_count": 40,
   "id": "f1eb1f59-8c23-4b93-996d-61462ec6a446",
   "metadata": {
    "execution": {
     "iopub.execute_input": "2023-01-26T23:24:37.161805Z",
     "iopub.status.busy": "2023-01-26T23:24:37.161381Z",
     "iopub.status.idle": "2023-01-26T23:24:37.214942Z",
     "shell.execute_reply": "2023-01-26T23:24:37.214207Z",
     "shell.execute_reply.started": "2023-01-26T23:24:37.161778Z"
    },
    "tags": []
   },
   "outputs": [],
   "source": [
    "p_embed = reducer.transform(output)"
   ]
  },
  {
   "cell_type": "code",
   "execution_count": 41,
   "id": "4f09c97b-d62e-4f7e-a680-cc0ad0fd2676",
   "metadata": {
    "execution": {
     "iopub.execute_input": "2023-01-26T23:24:37.946140Z",
     "iopub.status.busy": "2023-01-26T23:24:37.945749Z",
     "iopub.status.idle": "2023-01-26T23:24:38.080450Z",
     "shell.execute_reply": "2023-01-26T23:24:38.079809Z",
     "shell.execute_reply.started": "2023-01-26T23:24:37.946113Z"
    },
    "tags": []
   },
   "outputs": [],
   "source": [
    "t_embed = reducer.transform(train_x)"
   ]
  },
  {
   "cell_type": "markdown",
   "id": "a5a71b42-2ab9-4d28-a0da-5f3eedde43d8",
   "metadata": {},
   "source": [
    "### HDBScan Clusters"
   ]
  },
  {
   "cell_type": "code",
   "execution_count": 42,
   "id": "533474d9-af0e-4ac7-b774-7510fa3fd7b9",
   "metadata": {
    "execution": {
     "iopub.execute_input": "2023-01-26T23:24:42.185501Z",
     "iopub.status.busy": "2023-01-26T23:24:42.185104Z",
     "iopub.status.idle": "2023-01-26T23:24:42.283778Z",
     "shell.execute_reply": "2023-01-26T23:24:42.283133Z",
     "shell.execute_reply.started": "2023-01-26T23:24:42.185474Z"
    },
    "tags": []
   },
   "outputs": [],
   "source": [
    "# hdbscan_train = HDBSCAN()\n",
    "# train_cats_dbscan = hdbscan_train.fit(t_embed, )\n",
    "# train_clustered = [c >= 0 for c in cats_dbscan.to_numpy()]\n",
    "# t_embed_dn = t_embed[clustered]\n",
    "# t_embed_labels = dbscan.labels_[clustered].to_numpy()"
   ]
  },
  {
   "cell_type": "code",
   "execution_count": 73,
   "id": "a3750176-6cd7-4b47-92af-76bcfa89e351",
   "metadata": {
    "execution": {
     "iopub.execute_input": "2023-01-26T23:49:29.925709Z",
     "iopub.status.busy": "2023-01-26T23:49:29.925310Z",
     "iopub.status.idle": "2023-01-26T23:49:29.931222Z",
     "shell.execute_reply": "2023-01-26T23:49:29.930329Z",
     "shell.execute_reply.started": "2023-01-26T23:49:29.925684Z"
    }
   },
   "outputs": [
    {
     "data": {
      "text/plain": [
       "23719"
      ]
     },
     "execution_count": 73,
     "metadata": {},
     "output_type": "execute_result"
    }
   ],
   "source": [
    "sum(train_ind)"
   ]
  },
  {
   "cell_type": "code",
   "execution_count": 75,
   "id": "4ce08a02-38d3-4b18-b358-ba3abd58e020",
   "metadata": {
    "execution": {
     "iopub.execute_input": "2023-01-26T23:50:55.053630Z",
     "iopub.status.busy": "2023-01-26T23:50:55.053248Z",
     "iopub.status.idle": "2023-01-26T23:50:55.057612Z",
     "shell.execute_reply": "2023-01-26T23:50:55.056606Z",
     "shell.execute_reply.started": "2023-01-26T23:50:55.053605Z"
    },
    "tags": []
   },
   "outputs": [],
   "source": [
    "t_ind = np.where(t_labels > 0, True, False)"
   ]
  },
  {
   "cell_type": "code",
   "execution_count": 78,
   "id": "34ef80bf-b42b-4a68-8c5a-7368e3471fb9",
   "metadata": {
    "execution": {
     "iopub.execute_input": "2023-01-26T23:51:18.402139Z",
     "iopub.status.busy": "2023-01-26T23:51:18.401656Z",
     "iopub.status.idle": "2023-01-26T23:51:18.407836Z",
     "shell.execute_reply": "2023-01-26T23:51:18.407061Z",
     "shell.execute_reply.started": "2023-01-26T23:51:18.402108Z"
    }
   },
   "outputs": [
    {
     "data": {
      "text/plain": [
       "20467"
      ]
     },
     "execution_count": 78,
     "metadata": {},
     "output_type": "execute_result"
    }
   ],
   "source": [
    "len(t_ind)"
   ]
  },
  {
   "cell_type": "code",
   "execution_count": 77,
   "id": "4abbcb18-6010-4d13-80f0-8cb55745c54a",
   "metadata": {
    "execution": {
     "iopub.execute_input": "2023-01-26T23:51:06.033952Z",
     "iopub.status.busy": "2023-01-26T23:51:06.033558Z",
     "iopub.status.idle": "2023-01-26T23:51:06.040669Z",
     "shell.execute_reply": "2023-01-26T23:51:06.039879Z",
     "shell.execute_reply.started": "2023-01-26T23:51:06.033928Z"
    },
    "tags": []
   },
   "outputs": [
    {
     "data": {
      "text/plain": [
       "18783"
      ]
     },
     "execution_count": 77,
     "metadata": {},
     "output_type": "execute_result"
    }
   ],
   "source": [
    "sum(t_ind)"
   ]
  },
  {
   "cell_type": "code",
   "execution_count": 83,
   "id": "d244ed32-63b3-421b-a335-79875ffc5ff7",
   "metadata": {
    "execution": {
     "iopub.execute_input": "2023-01-27T00:00:15.001287Z",
     "iopub.status.busy": "2023-01-27T00:00:15.000895Z",
     "iopub.status.idle": "2023-01-27T00:00:15.010689Z",
     "shell.execute_reply": "2023-01-27T00:00:15.010133Z",
     "shell.execute_reply.started": "2023-01-27T00:00:15.001260Z"
    }
   },
   "outputs": [],
   "source": []
  },
  {
   "cell_type": "code",
   "execution_count": 82,
   "id": "a018d372-81d5-4342-8905-8691c299b786",
   "metadata": {
    "execution": {
     "iopub.execute_input": "2023-01-27T00:00:00.920871Z",
     "iopub.status.busy": "2023-01-27T00:00:00.920449Z",
     "iopub.status.idle": "2023-01-27T00:00:00.925861Z",
     "shell.execute_reply": "2023-01-27T00:00:00.925115Z",
     "shell.execute_reply.started": "2023-01-27T00:00:00.920845Z"
    }
   },
   "outputs": [
    {
     "data": {
      "text/plain": [
       "23719"
      ]
     },
     "execution_count": 82,
     "metadata": {},
     "output_type": "execute_result"
    }
   ],
   "source": [
    "len(hdbscan_t.labels_)"
   ]
  },
  {
   "cell_type": "code",
   "execution_count": 84,
   "id": "98e33f77-47fc-4106-b566-0aa828e3760e",
   "metadata": {
    "execution": {
     "iopub.execute_input": "2023-01-27T00:01:07.361939Z",
     "iopub.status.busy": "2023-01-27T00:01:07.361549Z",
     "iopub.status.idle": "2023-01-27T00:01:08.478192Z",
     "shell.execute_reply": "2023-01-27T00:01:08.477467Z",
     "shell.execute_reply.started": "2023-01-27T00:01:07.361913Z"
    },
    "tags": []
   },
   "outputs": [
    {
     "data": {
      "image/png": "[encoded data removed]",
      "text/plain": [
       "<Figure size 320x320 with 1 Axes>"
      ]
     },
     "metadata": {
      "image/png": {
       "height": 282,
       "width": 296
      }
     },
     "output_type": "display_data"
    }
   ],
   "source": [
    "thresh = 0.3\n",
    "\n",
    "hdbscan_t = HDBSCAN(min_samples=10,\n",
    "    min_cluster_size=100,)\n",
    "\n",
    "clusters_t = hdbscan_t.fit_predict(t_embed)\n",
    "\n",
    "clustered = [p > thresh for p in hdbscan_t.probabilities_.to_numpy()]\n",
    "\n",
    "t_dn = t_embed[clustered]\n",
    "t_labels = hdbscan_t.labels_[clustered].to_numpy()\n",
    "\n",
    "plt.scatter(t_dn.to_numpy()[:,0], \n",
    "            t_dn.to_numpy()[:,1],\n",
    "            c=t_labels,\n",
    "            s=0.13,\n",
    "            cmap='Spectral');\n",
    "\n",
    "# Set deleted labels to -1\n",
    "t_proba = hdbscan_t.probabilities_.to_numpy()\n",
    "t_deleted = np.where(t_proba <= thresh, True , False)\n",
    "t_labels_padded = hdbscan_t.labels_.copy()\n",
    "t_labels_padded[t_deleted] = -1"
   ]
  },
  {
   "cell_type": "code",
   "execution_count": 56,
   "id": "382c1588-d8d9-4f36-95c4-669431cff520",
   "metadata": {
    "execution": {
     "iopub.execute_input": "2023-01-26T23:34:14.396099Z",
     "iopub.status.busy": "2023-01-26T23:34:14.395674Z",
     "iopub.status.idle": "2023-01-26T23:34:14.902235Z",
     "shell.execute_reply": "2023-01-26T23:34:14.901458Z",
     "shell.execute_reply.started": "2023-01-26T23:34:14.396074Z"
    },
    "tags": []
   },
   "outputs": [
    {
     "data": {
      "image/png": "[encoded data removed]",
      "text/plain": [
       "<Figure size 320x320 with 1 Axes>"
      ]
     },
     "metadata": {
      "image/png": {
       "height": 282,
       "width": 296
      }
     },
     "output_type": "display_data"
    }
   ],
   "source": [
    "thresh = 0.0\n",
    "\n",
    "hdbscan = HDBSCAN(min_samples=10,\n",
    "    min_cluster_size=10,)\n",
    "\n",
    "clusters_p = hdbscan.fit_predict(p_embed)\n",
    "\n",
    "clustered = [p > thresh for p in hdbscan.probabilities_.to_numpy()]\n",
    "\n",
    "p_dn = p_embed[clustered]\n",
    "p_labels = hdbscan.labels_[clustered].to_numpy()\n",
    "\n",
    "plt.scatter(p_dn.to_numpy()[:,0], \n",
    "            p_dn.to_numpy()[:,1],\n",
    "            c=p_labels,\n",
    "            s=0.13,\n",
    "            cmap='Spectral');"
   ]
  },
  {
   "cell_type": "markdown",
   "id": "91165b51-0a52-413c-b6c8-b0dcdc69d6aa",
   "metadata": {},
   "source": [
    "### Class Conversion"
   ]
  },
  {
   "cell_type": "code",
   "execution_count": 57,
   "id": "8c661bef-37b2-4ff1-991b-2098b324f1aa",
   "metadata": {
    "execution": {
     "iopub.execute_input": "2023-01-26T23:34:23.065187Z",
     "iopub.status.busy": "2023-01-26T23:34:23.064656Z",
     "iopub.status.idle": "2023-01-26T23:34:23.076029Z",
     "shell.execute_reply": "2023-01-26T23:34:23.075437Z",
     "shell.execute_reply.started": "2023-01-26T23:34:23.065140Z"
    },
    "tags": []
   },
   "outputs": [],
   "source": [
    "# p -> t\n",
    "\n",
    "# est train to est test categories\n",
    "dists = c1toc2(p_dn.to_numpy(),p_labels,t_dn.to_numpy(), t_labels)\n",
    "dists = sorted(dists, key=lambda x: x[0][0])"
   ]
  },
  {
   "cell_type": "code",
   "execution_count": 58,
   "id": "8ba934b8-4892-4178-86bc-5e81a0d6840a",
   "metadata": {
    "execution": {
     "iopub.execute_input": "2023-01-26T23:34:23.515917Z",
     "iopub.status.busy": "2023-01-26T23:34:23.515486Z",
     "iopub.status.idle": "2023-01-26T23:34:23.521046Z",
     "shell.execute_reply": "2023-01-26T23:34:23.520255Z",
     "shell.execute_reply.started": "2023-01-26T23:34:23.515893Z"
    },
    "tags": []
   },
   "outputs": [
    {
     "data": {
      "text/plain": [
       "[((0, 3), 0.08419599),\n",
       " ((1, 4), 0.002245527),\n",
       " ((2, 0), 0.004852621),\n",
       " ((3, 2), 0.111683555),\n",
       " ((4, 1), 0.0005610796)]"
      ]
     },
     "execution_count": 58,
     "metadata": {},
     "output_type": "execute_result"
    }
   ],
   "source": [
    "dists"
   ]
  },
  {
   "cell_type": "code",
   "execution_count": 88,
   "id": "0aa638e6-56a3-4ce0-901b-0560418e811d",
   "metadata": {
    "execution": {
     "iopub.execute_input": "2023-01-27T00:02:03.873756Z",
     "iopub.status.busy": "2023-01-27T00:02:03.873324Z",
     "iopub.status.idle": "2023-01-27T00:02:03.933001Z",
     "shell.execute_reply": "2023-01-27T00:02:03.932210Z",
     "shell.execute_reply.started": "2023-01-27T00:02:03.873721Z"
    },
    "tags": []
   },
   "outputs": [],
   "source": [
    "p_to_t_map = catgy_cluster_map(p_dn.to_numpy(),p_labels,t_dn.to_numpy(), t_labels)\n",
    "\n",
    "t_to_orig_map = get_cluster_mapping_to_orig(adata, classdict, train_ind, t_labels_padded.to_pandas())"
   ]
  },
  {
   "cell_type": "code",
   "execution_count": 89,
   "id": "3986a46c-a91d-4774-81ac-b1ca0e67a21a",
   "metadata": {
    "execution": {
     "iopub.execute_input": "2023-01-27T00:02:09.153116Z",
     "iopub.status.busy": "2023-01-27T00:02:09.152720Z",
     "iopub.status.idle": "2023-01-27T00:02:09.157980Z",
     "shell.execute_reply": "2023-01-27T00:02:09.157235Z",
     "shell.execute_reply.started": "2023-01-27T00:02:09.153088Z"
    }
   },
   "outputs": [
    {
     "data": {
      "text/plain": [
       "{4: 1, 2: 3, 0: 0, 3: 2, 1: 4}"
      ]
     },
     "execution_count": 89,
     "metadata": {},
     "output_type": "execute_result"
    }
   ],
   "source": [
    "t_to_orig_map"
   ]
  },
  {
   "cell_type": "code",
   "execution_count": null,
   "id": "2ddf3cda-1d68-451b-93b7-1e2d8fa93b52",
   "metadata": {},
   "outputs": [],
   "source": [
    "\n",
    "# This is finnicky\n",
    "#dists = list(filter(lambda d: d[1] < 2, dists))\n",
    "c1_order = [d[0][0] for d in dists]\n",
    "c2_order = [d[0][1] for d in dists]\n",
    "\n",
    "#p1 = proportions_clusters(data_subset = ytr_labels, ordering = c1_order)\n",
    "#p2 = proportions_clusters(data_subset = y_est_labels, ordering = c2_order)"
   ]
  },
  {
   "cell_type": "code",
   "execution_count": null,
   "id": "8b4e5738-8c4b-46b8-81aa-abb1d4765849",
   "metadata": {},
   "outputs": [],
   "source": [
    "mapping = get_cluster_mapping_to_orig(adata, classdict, , cats_dbscan.to_pandas())\n",
    "\n",
    "proportions_clusters(data_subset = pd.Series(y_unpert_labels), mapping=mapping)"
   ]
  }
 ],
 "metadata": {
  "kernelspec": {
   "display_name": "saturn (Python 3)",
   "language": "python",
   "name": "python3"
  },
  "language_info": {
   "codemirror_mode": {
    "name": "ipython",
    "version": 3
   },
   "file_extension": ".py",
   "mimetype": "text/x-python",
   "name": "python",
   "nbconvert_exporter": "python",
   "pygments_lexer": "ipython3",
   "version": "3.9.15"
  }
 },
 "nbformat": 4,
 "nbformat_minor": 5
}
